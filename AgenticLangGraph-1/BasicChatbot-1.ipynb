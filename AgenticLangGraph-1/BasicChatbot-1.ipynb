{
 "cells": [
  {
   "cell_type": "code",
   "execution_count": 1,
   "id": "03e13e44",
   "metadata": {},
   "outputs": [],
   "source": [
    "a=2"
   ]
  },
  {
   "cell_type": "code",
   "execution_count": 2,
   "id": "f815ea41",
   "metadata": {},
   "outputs": [],
   "source": [
    "from typing import Annotated\n",
    "\n",
    "from typing_extensions import TypedDict\n",
    "\n",
    "from langgraph.graph import StateGraph, START, END\n",
    "from langgraph.graph.message import add_messages\n"
   ]
  },
  {
   "cell_type": "code",
   "execution_count": 3,
   "id": "508bb2c8",
   "metadata": {},
   "outputs": [],
   "source": [
    "class State(TypedDict):\n",
    "     # Messages have the type \"list\". The `add_messages` function\n",
    "    # in the annotation defines how this state key should be updated\n",
    "    # (in this case, it appends messages to the list, rather than overwriting them)\n",
    "    messages: Annotated[list, add_messages]\n",
    "\n",
    "graph_builder = StateGraph(State)"
   ]
  },
  {
   "cell_type": "code",
   "execution_count": 4,
   "id": "6d733035",
   "metadata": {},
   "outputs": [
    {
     "data": {
      "text/plain": [
       "<langgraph.graph.state.StateGraph at 0x194eac15280>"
      ]
     },
     "execution_count": 4,
     "metadata": {},
     "output_type": "execute_result"
    }
   ],
   "source": [
    "graph_builder"
   ]
  },
  {
   "cell_type": "code",
   "execution_count": 5,
   "id": "08a1277d",
   "metadata": {},
   "outputs": [
    {
     "data": {
      "text/plain": [
       "True"
      ]
     },
     "execution_count": 5,
     "metadata": {},
     "output_type": "execute_result"
    }
   ],
   "source": [
    "import os\n",
    "from dotenv import load_dotenv\n",
    "load_dotenv()"
   ]
  },
  {
   "cell_type": "code",
   "execution_count": 6,
   "id": "5188780c",
   "metadata": {},
   "outputs": [],
   "source": [
    "from langchain_groq import ChatGroq\n",
    "from langchain.chat_models import init_chat_model\n",
    "\n",
    "llm = ChatGroq(model=\"llama3-8b-8192\")"
   ]
  },
  {
   "cell_type": "code",
   "execution_count": 7,
   "id": "6e0e03b8",
   "metadata": {},
   "outputs": [
    {
     "data": {
      "text/plain": [
       "ChatGroq(client=<groq.resources.chat.completions.Completions object at 0x00000194EB423560>, async_client=<groq.resources.chat.completions.AsyncCompletions object at 0x00000194EB423CE0>, model_name='llama3-8b-8192', model_kwargs={}, groq_api_key=SecretStr('**********'))"
      ]
     },
     "execution_count": 7,
     "metadata": {},
     "output_type": "execute_result"
    }
   ],
   "source": [
    "llm = init_chat_model(\"groq:llama3-8b-8192\")\n",
    "llm"
   ]
  },
  {
   "cell_type": "code",
   "execution_count": 8,
   "id": "db408a30",
   "metadata": {},
   "outputs": [],
   "source": [
    "# Node Functionality\n",
    "def chatbot(state:State):\n",
    "    return {\"messages\": [llm.invoke(state[\"messages\"])]}\n"
   ]
  },
  {
   "cell_type": "code",
   "execution_count": 9,
   "id": "1b72e068",
   "metadata": {},
   "outputs": [],
   "source": [
    "graph_builder = StateGraph(State)\n",
    "# adding node\n",
    "graph_builder.add_node(\"llmchatbot\", chatbot)\n",
    "#adding edge\n",
    "graph_builder.add_edge(START, \"llmchatbot\")\n",
    "graph_builder.add_edge(\"llmchatbot\", END)\n",
    "\n",
    "#Compile the Graph\n",
    "graph = graph_builder.compile()\n",
    "\n",
    "\n"
   ]
  },
  {
   "cell_type": "code",
   "execution_count": 10,
   "id": "ce9912e1",
   "metadata": {},
   "outputs": [
    {
     "data": {
      "image/png": "[encoded data removed]",
      "text/plain": [
       "<IPython.core.display.Image object>"
      ]
     },
     "metadata": {},
     "output_type": "display_data"
    }
   ],
   "source": [
    "# visualize the graph\n",
    "from IPython.display import Image, display\n",
    "\n",
    "try:\n",
    "    display(Image(graph.get_graph().draw_mermaid_png()))\n",
    "\n",
    "except Exception as e:\n",
    "    pass\n"
   ]
  },
  {
   "cell_type": "code",
   "execution_count": 11,
   "id": "e7a923ce",
   "metadata": {},
   "outputs": [
    {
     "ename": "InvalidUpdateError",
     "evalue": "Expected dict, got Hi\nFor troubleshooting, visit: https://python.langchain.com/docs/troubleshooting/errors/INVALID_GRAPH_NODE_RETURN_VALUE",
     "output_type": "error",
     "traceback": [
      "\u001b[31m---------------------------------------------------------------------------\u001b[39m",
      "\u001b[31mInvalidUpdateError\u001b[39m                        Traceback (most recent call last)",
      "\u001b[36mCell\u001b[39m\u001b[36m \u001b[39m\u001b[32mIn[11]\u001b[39m\u001b[32m, line 1\u001b[39m\n\u001b[32m----> \u001b[39m\u001b[32m1\u001b[39m \u001b[43mgraph\u001b[49m\u001b[43m.\u001b[49m\u001b[43minvoke\u001b[49m\u001b[43m(\u001b[49m\u001b[33;43m\"\u001b[39;49m\u001b[33;43mHi\u001b[39;49m\u001b[33;43m\"\u001b[39;49m\u001b[43m)\u001b[49m\n",
      "\u001b[36mFile \u001b[39m\u001b[32md:\\Jeevan\\Agentic_AI_Basics\\AgenticLangGraph-1\\.venv\\Lib\\site-packages\\langgraph\\pregel\\__init__.py:2843\u001b[39m, in \u001b[36mPregel.invoke\u001b[39m\u001b[34m(self, input, config, stream_mode, print_mode, output_keys, interrupt_before, interrupt_after, **kwargs)\u001b[39m\n\u001b[32m   2840\u001b[39m chunks: \u001b[38;5;28mlist\u001b[39m[\u001b[38;5;28mdict\u001b[39m[\u001b[38;5;28mstr\u001b[39m, Any] | Any] = []\n\u001b[32m   2841\u001b[39m interrupts: \u001b[38;5;28mlist\u001b[39m[Interrupt] = []\n\u001b[32m-> \u001b[39m\u001b[32m2843\u001b[39m \u001b[43m\u001b[49m\u001b[38;5;28;43;01mfor\u001b[39;49;00m\u001b[43m \u001b[49m\u001b[43mchunk\u001b[49m\u001b[43m \u001b[49m\u001b[38;5;129;43;01min\u001b[39;49;00m\u001b[43m \u001b[49m\u001b[38;5;28;43mself\u001b[39;49m\u001b[43m.\u001b[49m\u001b[43mstream\u001b[49m\u001b[43m(\u001b[49m\n\u001b[32m   2844\u001b[39m \u001b[43m    \u001b[49m\u001b[38;5;28;43minput\u001b[39;49m\u001b[43m,\u001b[49m\n\u001b[32m   2845\u001b[39m \u001b[43m    \u001b[49m\u001b[43mconfig\u001b[49m\u001b[43m,\u001b[49m\n\u001b[32m   2846\u001b[39m \u001b[43m    \u001b[49m\u001b[43mstream_mode\u001b[49m\u001b[43m=\u001b[49m\u001b[43m[\u001b[49m\u001b[33;43m\"\u001b[39;49m\u001b[33;43mupdates\u001b[39;49m\u001b[33;43m\"\u001b[39;49m\u001b[43m,\u001b[49m\u001b[43m \u001b[49m\u001b[33;43m\"\u001b[39;49m\u001b[33;43mvalues\u001b[39;49m\u001b[33;43m\"\u001b[39;49m\u001b[43m]\u001b[49m\n\u001b[32m   2847\u001b[39m \u001b[43m    \u001b[49m\u001b[38;5;28;43;01mif\u001b[39;49;00m\u001b[43m \u001b[49m\u001b[43mstream_mode\u001b[49m\u001b[43m \u001b[49m\u001b[43m==\u001b[49m\u001b[43m \u001b[49m\u001b[33;43m\"\u001b[39;49m\u001b[33;43mvalues\u001b[39;49m\u001b[33;43m\"\u001b[39;49m\n\u001b[32m   2848\u001b[39m \u001b[43m    \u001b[49m\u001b[38;5;28;43;01melse\u001b[39;49;00m\u001b[43m \u001b[49m\u001b[43mstream_mode\u001b[49m\u001b[43m,\u001b[49m\n\u001b[32m   2849\u001b[39m \u001b[43m    \u001b[49m\u001b[43mprint_mode\u001b[49m\u001b[43m=\u001b[49m\u001b[43mprint_mode\u001b[49m\u001b[43m,\u001b[49m\n\u001b[32m   2850\u001b[39m \u001b[43m    \u001b[49m\u001b[43moutput_keys\u001b[49m\u001b[43m=\u001b[49m\u001b[43moutput_keys\u001b[49m\u001b[43m,\u001b[49m\n\u001b[32m   2851\u001b[39m \u001b[43m    \u001b[49m\u001b[43minterrupt_before\u001b[49m\u001b[43m=\u001b[49m\u001b[43minterrupt_before\u001b[49m\u001b[43m,\u001b[49m\n\u001b[32m   2852\u001b[39m \u001b[43m    \u001b[49m\u001b[43minterrupt_after\u001b[49m\u001b[43m=\u001b[49m\u001b[43minterrupt_after\u001b[49m\u001b[43m,\u001b[49m\n\u001b[32m   2853\u001b[39m \u001b[43m    \u001b[49m\u001b[43m*\u001b[49m\u001b[43m*\u001b[49m\u001b[43mkwargs\u001b[49m\u001b[43m,\u001b[49m\n\u001b[32m   2854\u001b[39m \u001b[43m\u001b[49m\u001b[43m)\u001b[49m\u001b[43m:\u001b[49m\n\u001b[32m   2855\u001b[39m \u001b[43m    \u001b[49m\u001b[38;5;28;43;01mif\u001b[39;49;00m\u001b[43m \u001b[49m\u001b[43mstream_mode\u001b[49m\u001b[43m \u001b[49m\u001b[43m==\u001b[49m\u001b[43m \u001b[49m\u001b[33;43m\"\u001b[39;49m\u001b[33;43mvalues\u001b[39;49m\u001b[33;43m\"\u001b[39;49m\u001b[43m:\u001b[49m\n\u001b[32m   2856\u001b[39m \u001b[43m        \u001b[49m\u001b[38;5;28;43;01mif\u001b[39;49;00m\u001b[43m \u001b[49m\u001b[38;5;28;43mlen\u001b[39;49m\u001b[43m(\u001b[49m\u001b[43mchunk\u001b[49m\u001b[43m)\u001b[49m\u001b[43m \u001b[49m\u001b[43m==\u001b[49m\u001b[43m \u001b[49m\u001b[32;43m2\u001b[39;49m\u001b[43m:\u001b[49m\n",
      "\u001b[36mFile \u001b[39m\u001b[32md:\\Jeevan\\Agentic_AI_Basics\\AgenticLangGraph-1\\.venv\\Lib\\site-packages\\langgraph\\pregel\\__init__.py:2533\u001b[39m, in \u001b[36mPregel.stream\u001b[39m\u001b[34m(self, input, config, stream_mode, print_mode, output_keys, interrupt_before, interrupt_after, checkpoint_during, debug, subgraphs)\u001b[39m\n\u001b[32m   2531\u001b[39m \u001b[38;5;28;01mfor\u001b[39;00m task \u001b[38;5;129;01min\u001b[39;00m loop.match_cached_writes():\n\u001b[32m   2532\u001b[39m     loop.output_writes(task.id, task.writes, cached=\u001b[38;5;28;01mTrue\u001b[39;00m)\n\u001b[32m-> \u001b[39m\u001b[32m2533\u001b[39m \u001b[43m\u001b[49m\u001b[38;5;28;43;01mfor\u001b[39;49;00m\u001b[43m \u001b[49m\u001b[43m_\u001b[49m\u001b[43m \u001b[49m\u001b[38;5;129;43;01min\u001b[39;49;00m\u001b[43m \u001b[49m\u001b[43mrunner\u001b[49m\u001b[43m.\u001b[49m\u001b[43mtick\u001b[49m\u001b[43m(\u001b[49m\n\u001b[32m   2534\u001b[39m \u001b[43m    \u001b[49m\u001b[43m[\u001b[49m\u001b[43mt\u001b[49m\u001b[43m \u001b[49m\u001b[38;5;28;43;01mfor\u001b[39;49;00m\u001b[43m \u001b[49m\u001b[43mt\u001b[49m\u001b[43m \u001b[49m\u001b[38;5;129;43;01min\u001b[39;49;00m\u001b[43m \u001b[49m\u001b[43mloop\u001b[49m\u001b[43m.\u001b[49m\u001b[43mtasks\u001b[49m\u001b[43m.\u001b[49m\u001b[43mvalues\u001b[49m\u001b[43m(\u001b[49m\u001b[43m)\u001b[49m\u001b[43m \u001b[49m\u001b[38;5;28;43;01mif\u001b[39;49;00m\u001b[43m \u001b[49m\u001b[38;5;129;43;01mnot\u001b[39;49;00m\u001b[43m \u001b[49m\u001b[43mt\u001b[49m\u001b[43m.\u001b[49m\u001b[43mwrites\u001b[49m\u001b[43m]\u001b[49m\u001b[43m,\u001b[49m\n\u001b[32m   2535\u001b[39m \u001b[43m    \u001b[49m\u001b[43mtimeout\u001b[49m\u001b[43m=\u001b[49m\u001b[38;5;28;43mself\u001b[39;49m\u001b[43m.\u001b[49m\u001b[43mstep_timeout\u001b[49m\u001b[43m,\u001b[49m\n\u001b[32m   2536\u001b[39m \u001b[43m    \u001b[49m\u001b[43mget_waiter\u001b[49m\u001b[43m=\u001b[49m\u001b[43mget_waiter\u001b[49m\u001b[43m,\u001b[49m\n\u001b[32m   2537\u001b[39m \u001b[43m    \u001b[49m\u001b[43mschedule_task\u001b[49m\u001b[43m=\u001b[49m\u001b[43mloop\u001b[49m\u001b[43m.\u001b[49m\u001b[43maccept_push\u001b[49m\u001b[43m,\u001b[49m\n\u001b[32m   2538\u001b[39m \u001b[43m\u001b[49m\u001b[43m)\u001b[49m\u001b[43m:\u001b[49m\n\u001b[32m   2539\u001b[39m \u001b[43m    \u001b[49m\u001b[38;5;66;43;03m# emit output\u001b[39;49;00m\n\u001b[32m   2540\u001b[39m \u001b[43m    \u001b[49m\u001b[38;5;28;43;01myield from\u001b[39;49;00m\u001b[43m \u001b[49m\u001b[43m_output\u001b[49m\u001b[43m(\u001b[49m\n\u001b[32m   2541\u001b[39m \u001b[43m        \u001b[49m\u001b[43mstream_mode\u001b[49m\u001b[43m,\u001b[49m\u001b[43m \u001b[49m\u001b[43mprint_mode\u001b[49m\u001b[43m,\u001b[49m\u001b[43m \u001b[49m\u001b[43msubgraphs\u001b[49m\u001b[43m,\u001b[49m\u001b[43m \u001b[49m\u001b[43mstream\u001b[49m\u001b[43m.\u001b[49m\u001b[43mget\u001b[49m\u001b[43m,\u001b[49m\u001b[43m \u001b[49m\u001b[43mqueue\u001b[49m\u001b[43m.\u001b[49m\u001b[43mEmpty\u001b[49m\n\u001b[32m   2542\u001b[39m \u001b[43m    \u001b[49m\u001b[43m)\u001b[49m\n\u001b[32m   2543\u001b[39m loop.after_tick()\n",
      "\u001b[36mFile \u001b[39m\u001b[32md:\\Jeevan\\Agentic_AI_Basics\\AgenticLangGraph-1\\.venv\\Lib\\site-packages\\langgraph\\pregel\\runner.py:162\u001b[39m, in \u001b[36mPregelRunner.tick\u001b[39m\u001b[34m(self, tasks, reraise, timeout, retry_policy, get_waiter, schedule_task)\u001b[39m\n\u001b[32m    160\u001b[39m t = tasks[\u001b[32m0\u001b[39m]\n\u001b[32m    161\u001b[39m \u001b[38;5;28;01mtry\u001b[39;00m:\n\u001b[32m--> \u001b[39m\u001b[32m162\u001b[39m     \u001b[43mrun_with_retry\u001b[49m\u001b[43m(\u001b[49m\n\u001b[32m    163\u001b[39m \u001b[43m        \u001b[49m\u001b[43mt\u001b[49m\u001b[43m,\u001b[49m\n\u001b[32m    164\u001b[39m \u001b[43m        \u001b[49m\u001b[43mretry_policy\u001b[49m\u001b[43m,\u001b[49m\n\u001b[32m    165\u001b[39m \u001b[43m        \u001b[49m\u001b[43mconfigurable\u001b[49m\u001b[43m=\u001b[49m\u001b[43m{\u001b[49m\n\u001b[32m    166\u001b[39m \u001b[43m            \u001b[49m\u001b[43mCONFIG_KEY_CALL\u001b[49m\u001b[43m:\u001b[49m\u001b[43m \u001b[49m\u001b[43mpartial\u001b[49m\u001b[43m(\u001b[49m\n\u001b[32m    167\u001b[39m \u001b[43m                \u001b[49m\u001b[43m_call\u001b[49m\u001b[43m,\u001b[49m\n\u001b[32m    168\u001b[39m \u001b[43m                \u001b[49m\u001b[43mweakref\u001b[49m\u001b[43m.\u001b[49m\u001b[43mref\u001b[49m\u001b[43m(\u001b[49m\u001b[43mt\u001b[49m\u001b[43m)\u001b[49m\u001b[43m,\u001b[49m\n\u001b[32m    169\u001b[39m \u001b[43m                \u001b[49m\u001b[43mretry_policy\u001b[49m\u001b[43m=\u001b[49m\u001b[43mretry_policy\u001b[49m\u001b[43m,\u001b[49m\n\u001b[32m    170\u001b[39m \u001b[43m                \u001b[49m\u001b[43mfutures\u001b[49m\u001b[43m=\u001b[49m\u001b[43mweakref\u001b[49m\u001b[43m.\u001b[49m\u001b[43mref\u001b[49m\u001b[43m(\u001b[49m\u001b[43mfutures\u001b[49m\u001b[43m)\u001b[49m\u001b[43m,\u001b[49m\n\u001b[32m    171\u001b[39m \u001b[43m                \u001b[49m\u001b[43mschedule_task\u001b[49m\u001b[43m=\u001b[49m\u001b[43mschedule_task\u001b[49m\u001b[43m,\u001b[49m\n\u001b[32m    172\u001b[39m \u001b[43m                \u001b[49m\u001b[43msubmit\u001b[49m\u001b[43m=\u001b[49m\u001b[38;5;28;43mself\u001b[39;49m\u001b[43m.\u001b[49m\u001b[43msubmit\u001b[49m\u001b[43m,\u001b[49m\n\u001b[32m    173\u001b[39m \u001b[43m            \u001b[49m\u001b[43m)\u001b[49m\u001b[43m,\u001b[49m\n\u001b[32m    174\u001b[39m \u001b[43m        \u001b[49m\u001b[43m}\u001b[49m\u001b[43m,\u001b[49m\n\u001b[32m    175\u001b[39m \u001b[43m    \u001b[49m\u001b[43m)\u001b[49m\n\u001b[32m    176\u001b[39m     \u001b[38;5;28mself\u001b[39m.commit(t, \u001b[38;5;28;01mNone\u001b[39;00m)\n\u001b[32m    177\u001b[39m \u001b[38;5;28;01mexcept\u001b[39;00m \u001b[38;5;167;01mException\u001b[39;00m \u001b[38;5;28;01mas\u001b[39;00m exc:\n",
      "\u001b[36mFile \u001b[39m\u001b[32md:\\Jeevan\\Agentic_AI_Basics\\AgenticLangGraph-1\\.venv\\Lib\\site-packages\\langgraph\\pregel\\retry.py:42\u001b[39m, in \u001b[36mrun_with_retry\u001b[39m\u001b[34m(task, retry_policy, configurable)\u001b[39m\n\u001b[32m     40\u001b[39m     task.writes.clear()\n\u001b[32m     41\u001b[39m     \u001b[38;5;66;03m# run the task\u001b[39;00m\n\u001b[32m---> \u001b[39m\u001b[32m42\u001b[39m     \u001b[38;5;28;01mreturn\u001b[39;00m \u001b[43mtask\u001b[49m\u001b[43m.\u001b[49m\u001b[43mproc\u001b[49m\u001b[43m.\u001b[49m\u001b[43minvoke\u001b[49m\u001b[43m(\u001b[49m\u001b[43mtask\u001b[49m\u001b[43m.\u001b[49m\u001b[43minput\u001b[49m\u001b[43m,\u001b[49m\u001b[43m \u001b[49m\u001b[43mconfig\u001b[49m\u001b[43m)\u001b[49m\n\u001b[32m     43\u001b[39m \u001b[38;5;28;01mexcept\u001b[39;00m ParentCommand \u001b[38;5;28;01mas\u001b[39;00m exc:\n\u001b[32m     44\u001b[39m     ns: \u001b[38;5;28mstr\u001b[39m = config[CONF][CONFIG_KEY_CHECKPOINT_NS]\n",
      "\u001b[36mFile \u001b[39m\u001b[32md:\\Jeevan\\Agentic_AI_Basics\\AgenticLangGraph-1\\.venv\\Lib\\site-packages\\langgraph\\utils\\runnable.py:377\u001b[39m, in \u001b[36mRunnableCallable.invoke\u001b[39m\u001b[34m(self, input, config, **kwargs)\u001b[39m\n\u001b[32m    375\u001b[39m         run_manager.on_chain_end(ret)\n\u001b[32m    376\u001b[39m \u001b[38;5;28;01melse\u001b[39;00m:\n\u001b[32m--> \u001b[39m\u001b[32m377\u001b[39m     ret = \u001b[38;5;28;43mself\u001b[39;49m\u001b[43m.\u001b[49m\u001b[43mfunc\u001b[49m\u001b[43m(\u001b[49m\u001b[43m*\u001b[49m\u001b[43margs\u001b[49m\u001b[43m,\u001b[49m\u001b[43m \u001b[49m\u001b[43m*\u001b[49m\u001b[43m*\u001b[49m\u001b[43mkwargs\u001b[49m\u001b[43m)\u001b[49m\n\u001b[32m    378\u001b[39m \u001b[38;5;28;01mif\u001b[39;00m \u001b[38;5;28mself\u001b[39m.recurse \u001b[38;5;129;01mand\u001b[39;00m \u001b[38;5;28misinstance\u001b[39m(ret, Runnable):\n\u001b[32m    379\u001b[39m     \u001b[38;5;28;01mreturn\u001b[39;00m ret.invoke(\u001b[38;5;28minput\u001b[39m, config)\n",
      "\u001b[36mFile \u001b[39m\u001b[32md:\\Jeevan\\Agentic_AI_Basics\\AgenticLangGraph-1\\.venv\\Lib\\site-packages\\langgraph\\pregel\\write.py:86\u001b[39m, in \u001b[36mChannelWrite._write\u001b[39m\u001b[34m(self, input, config)\u001b[39m\n\u001b[32m     77\u001b[39m \u001b[38;5;28;01mdef\u001b[39;00m\u001b[38;5;250m \u001b[39m\u001b[34m_write\u001b[39m(\u001b[38;5;28mself\u001b[39m, \u001b[38;5;28minput\u001b[39m: Any, config: RunnableConfig) -> \u001b[38;5;28;01mNone\u001b[39;00m:\n\u001b[32m     78\u001b[39m     writes = [\n\u001b[32m     79\u001b[39m         ChannelWriteEntry(write.channel, \u001b[38;5;28minput\u001b[39m, write.skip_none, write.mapper)\n\u001b[32m     80\u001b[39m         \u001b[38;5;28;01mif\u001b[39;00m \u001b[38;5;28misinstance\u001b[39m(write, ChannelWriteEntry) \u001b[38;5;129;01mand\u001b[39;00m write.value \u001b[38;5;129;01mis\u001b[39;00m PASSTHROUGH\n\u001b[32m   (...)\u001b[39m\u001b[32m     84\u001b[39m         \u001b[38;5;28;01mfor\u001b[39;00m write \u001b[38;5;129;01min\u001b[39;00m \u001b[38;5;28mself\u001b[39m.writes\n\u001b[32m     85\u001b[39m     ]\n\u001b[32m---> \u001b[39m\u001b[32m86\u001b[39m     \u001b[38;5;28;43mself\u001b[39;49m\u001b[43m.\u001b[49m\u001b[43mdo_write\u001b[49m\u001b[43m(\u001b[49m\n\u001b[32m     87\u001b[39m \u001b[43m        \u001b[49m\u001b[43mconfig\u001b[49m\u001b[43m,\u001b[49m\n\u001b[32m     88\u001b[39m \u001b[43m        \u001b[49m\u001b[43mwrites\u001b[49m\u001b[43m,\u001b[49m\n\u001b[32m     89\u001b[39m \u001b[43m    \u001b[49m\u001b[43m)\u001b[49m\n\u001b[32m     90\u001b[39m     \u001b[38;5;28;01mreturn\u001b[39;00m \u001b[38;5;28minput\u001b[39m\n",
      "\u001b[36mFile \u001b[39m\u001b[32md:\\Jeevan\\Agentic_AI_Basics\\AgenticLangGraph-1\\.venv\\Lib\\site-packages\\langgraph\\pregel\\write.py:128\u001b[39m, in \u001b[36mChannelWrite.do_write\u001b[39m\u001b[34m(config, writes, allow_passthrough)\u001b[39m\n\u001b[32m    125\u001b[39m \u001b[38;5;66;03m# if we want to persist writes found before hitting a ParentCommand\u001b[39;00m\n\u001b[32m    126\u001b[39m \u001b[38;5;66;03m# can move this to a finally block\u001b[39;00m\n\u001b[32m    127\u001b[39m write: TYPE_SEND = config[CONF][CONFIG_KEY_SEND]\n\u001b[32m--> \u001b[39m\u001b[32m128\u001b[39m write(\u001b[43m_assemble_writes\u001b[49m\u001b[43m(\u001b[49m\u001b[43mwrites\u001b[49m\u001b[43m)\u001b[49m)\n",
      "\u001b[36mFile \u001b[39m\u001b[32md:\\Jeevan\\Agentic_AI_Basics\\AgenticLangGraph-1\\.venv\\Lib\\site-packages\\langgraph\\pregel\\write.py:183\u001b[39m, in \u001b[36m_assemble_writes\u001b[39m\u001b[34m(writes)\u001b[39m\n\u001b[32m    181\u001b[39m     tuples.append((TASKS, w))\n\u001b[32m    182\u001b[39m \u001b[38;5;28;01melif\u001b[39;00m \u001b[38;5;28misinstance\u001b[39m(w, ChannelWriteTupleEntry):\n\u001b[32m--> \u001b[39m\u001b[32m183\u001b[39m     \u001b[38;5;28;01mif\u001b[39;00m ww := \u001b[43mw\u001b[49m\u001b[43m.\u001b[49m\u001b[43mmapper\u001b[49m\u001b[43m(\u001b[49m\u001b[43mw\u001b[49m\u001b[43m.\u001b[49m\u001b[43mvalue\u001b[49m\u001b[43m)\u001b[49m:\n\u001b[32m    184\u001b[39m         tuples.extend(ww)\n\u001b[32m    185\u001b[39m \u001b[38;5;28;01melif\u001b[39;00m \u001b[38;5;28misinstance\u001b[39m(w, ChannelWriteEntry):\n",
      "\u001b[36mFile \u001b[39m\u001b[32md:\\Jeevan\\Agentic_AI_Basics\\AgenticLangGraph-1\\.venv\\Lib\\site-packages\\langgraph\\graph\\state.py:975\u001b[39m, in \u001b[36mCompiledStateGraph.attach_node.<locals>._get_updates\u001b[39m\u001b[34m(input)\u001b[39m\n\u001b[32m    970\u001b[39m \u001b[38;5;28;01melse\u001b[39;00m:\n\u001b[32m    971\u001b[39m     msg = create_error_message(\n\u001b[32m    972\u001b[39m         message=\u001b[33mf\u001b[39m\u001b[33m\"\u001b[39m\u001b[33mExpected dict, got \u001b[39m\u001b[38;5;132;01m{\u001b[39;00m\u001b[38;5;28minput\u001b[39m\u001b[38;5;132;01m}\u001b[39;00m\u001b[33m\"\u001b[39m,\n\u001b[32m    973\u001b[39m         error_code=ErrorCode.INVALID_GRAPH_NODE_RETURN_VALUE,\n\u001b[32m    974\u001b[39m     )\n\u001b[32m--> \u001b[39m\u001b[32m975\u001b[39m     \u001b[38;5;28;01mraise\u001b[39;00m InvalidUpdateError(msg)\n",
      "\u001b[31mInvalidUpdateError\u001b[39m: Expected dict, got Hi\nFor troubleshooting, visit: https://python.langchain.com/docs/troubleshooting/errors/INVALID_GRAPH_NODE_RETURN_VALUE",
      "During task with name '__start__' and id 'c28446b9-2f32-351e-a414-5e7a0ceb17a2'"
     ]
    }
   ],
   "source": [
    "graph.invoke(\"Hi\")"
   ]
  },
  {
   "cell_type": "code",
   "execution_count": 12,
   "id": "cd5bdb47",
   "metadata": {},
   "outputs": [],
   "source": [
    "response = graph.invoke({\"messages\":\"Hi\"})"
   ]
  },
  {
   "cell_type": "code",
   "execution_count": 13,
   "id": "955fc814",
   "metadata": {},
   "outputs": [
    {
     "data": {
      "text/plain": [
       "[HumanMessage(content='Hi', additional_kwargs={}, response_metadata={}, id='a4b758e4-b2d6-4690-975b-4843953e8785'),\n",
       " AIMessage(content=\"Hi! It's nice to meet you. Is there something I can help you with or would you like to chat?\", additional_kwargs={}, response_metadata={'token_usage': {'completion_tokens': 25, 'prompt_tokens': 11, 'total_tokens': 36, 'completion_time': 0.057525924, 'prompt_time': 0.010263137, 'queue_time': 0.7899059319999999, 'total_time': 0.067789061}, 'model_name': 'llama3-8b-8192', 'system_fingerprint': 'fp_24ec19897b', 'finish_reason': 'stop', 'logprobs': None}, id='run--1e23029c-6e45-4b64-b2cd-6229afbc01ce-0', usage_metadata={'input_tokens': 11, 'output_tokens': 25, 'total_tokens': 36})]"
      ]
     },
     "execution_count": 13,
     "metadata": {},
     "output_type": "execute_result"
    }
   ],
   "source": [
    "response[\"messages\"]"
   ]
  },
  {
   "cell_type": "code",
   "execution_count": 14,
   "id": "bfa3750e",
   "metadata": {},
   "outputs": [
    {
     "data": {
      "text/plain": [
       "AIMessage(content=\"Hi! It's nice to meet you. Is there something I can help you with or would you like to chat?\", additional_kwargs={}, response_metadata={'token_usage': {'completion_tokens': 25, 'prompt_tokens': 11, 'total_tokens': 36, 'completion_time': 0.057525924, 'prompt_time': 0.010263137, 'queue_time': 0.7899059319999999, 'total_time': 0.067789061}, 'model_name': 'llama3-8b-8192', 'system_fingerprint': 'fp_24ec19897b', 'finish_reason': 'stop', 'logprobs': None}, id='run--1e23029c-6e45-4b64-b2cd-6229afbc01ce-0', usage_metadata={'input_tokens': 11, 'output_tokens': 25, 'total_tokens': 36})"
      ]
     },
     "execution_count": 14,
     "metadata": {},
     "output_type": "execute_result"
    }
   ],
   "source": [
    "response[\"messages\"][-1]"
   ]
  },
  {
   "cell_type": "code",
   "execution_count": 15,
   "id": "7d7e1787",
   "metadata": {},
   "outputs": [
    {
     "data": {
      "text/plain": [
       "\"Hi! It's nice to meet you. Is there something I can help you with or would you like to chat?\""
      ]
     },
     "execution_count": 15,
     "metadata": {},
     "output_type": "execute_result"
    }
   ],
   "source": [
    "response[\"messages\"][-1].content"
   ]
  },
  {
   "cell_type": "code",
   "execution_count": 16,
   "id": "f6f9d8d0",
   "metadata": {},
   "outputs": [
    {
     "name": "stdout",
     "output_type": "stream",
     "text": [
      "{'llmchatbot': {'messages': [AIMessage(content=\"Hi! It's nice to meet you. Is there something I can help you with or would you like to chat?\", additional_kwargs={}, response_metadata={'token_usage': {'completion_tokens': 25, 'prompt_tokens': 11, 'total_tokens': 36, 'completion_time': 0.0577668, 'prompt_time': 0.009486007, 'queue_time': 0.329517615, 'total_time': 0.067252807}, 'model_name': 'llama3-8b-8192', 'system_fingerprint': 'fp_24ec19897b', 'finish_reason': 'stop', 'logprobs': None}, id='run--0e683fb8-8001-4532-bf13-f902efa88710-0', usage_metadata={'input_tokens': 11, 'output_tokens': 25, 'total_tokens': 36})]}}\n"
     ]
    }
   ],
   "source": [
    "for event in graph.stream({\"messages\":\"Hi\"}):\n",
    "    print(event)"
   ]
  },
  {
   "cell_type": "code",
   "execution_count": 17,
   "id": "24c4a245",
   "metadata": {},
   "outputs": [
    {
     "name": "stdout",
     "output_type": "stream",
     "text": [
      "{'messages': [AIMessage(content=\"Hi! It's nice to meet you. Is there something I can help you with or would you like to chat?\", additional_kwargs={}, response_metadata={'token_usage': {'completion_tokens': 25, 'prompt_tokens': 11, 'total_tokens': 36, 'completion_time': 0.03858004, 'prompt_time': 0.004580321, 'queue_time': 0.23614401000000002, 'total_time': 0.043160361}, 'model_name': 'llama3-8b-8192', 'system_fingerprint': 'fp_24ec19897b', 'finish_reason': 'stop', 'logprobs': None}, id='run--1ffc9759-365e-4dc2-a233-123961372865-0', usage_metadata={'input_tokens': 11, 'output_tokens': 25, 'total_tokens': 36})]}\n"
     ]
    }
   ],
   "source": [
    "for event in graph.stream({\"messages\":\"Hi\"}):\n",
    "    for value in event.values():\n",
    "        print(value)"
   ]
  },
  {
   "cell_type": "code",
   "execution_count": 18,
   "id": "130415f8",
   "metadata": {},
   "outputs": [
    {
     "name": "stdout",
     "output_type": "stream",
     "text": [
      "Hi! It's nice to meet you. Is there something I can help you with or would you like to chat?\n"
     ]
    }
   ],
   "source": [
    "for event in graph.stream({\"messages\":\"Hi\"}):\n",
    "    for value in event.values():\n",
    "        print(value[\"messages\"][-1].content)"
   ]
  },
  {
   "cell_type": "code",
   "execution_count": null,
   "id": "f684383f",
   "metadata": {},
   "outputs": [],
   "source": []
  },
  {
   "cell_type": "markdown",
   "id": "932909af",
   "metadata": {},
   "source": [
    "CHATBOT WITH TOOL"
   ]
  },
  {
   "cell_type": "code",
   "execution_count": 19,
   "id": "d299ff26",
   "metadata": {},
   "outputs": [
    {
     "data": {
      "text/plain": [
       "{'query': 'what is langgraph',\n",
       " 'follow_up_questions': None,\n",
       " 'answer': None,\n",
       " 'images': [],\n",
       " 'results': [{'url': 'https://www.datacamp.com/tutorial/langgraph-tutorial',\n",
       "   'title': 'LangGraph Tutorial: What Is LangGraph and How to Use It?',\n",
       "   'content': 'LangGraph is a library within the LangChain ecosystem that provides a framework for defining, coordinating, and executing multiple LLM agents (or chains) in a structured and efficient manner. By managing the flow of data and the sequence of operations, LangGraph allows developers to focus on the high-level logic of their applications rather than the intricacies of agent coordination. Whether you need a chatbot that can handle various types of user requests or a multi-agent system that performs complex tasks, LangGraph provides the tools to build exactly what you need. LangGraph significantly simplifies the development of complex LLM applications by providing a structured framework for managing state and coordinating agent interactions.',\n",
       "   'score': 0.9446333,\n",
       "   'raw_content': None},\n",
       "  {'url': 'https://www.ibm.com/think/topics/langgraph',\n",
       "   'title': 'What is LangGraph? - IBM',\n",
       "   'content': 'LangGraph, created by LangChain, is an open source AI agent framework designed to build, deploy and manage complex generative AI agent workflows. At its core, LangGraph uses the power of graph-based architectures to model and manage the intricate relationships between various components of an AI agent workflow. LangGraph illuminates the processes within an AI workflow, allowing full transparency of the agent’s state. By combining these technologies with a set of APIs and tools, LangGraph provides users with a versatile platform for developing AI solutions and workflows including chatbots, state graphs and other agent-based systems. Nodes: In LangGraph, nodes represent individual components or agents within an AI workflow. LangGraph uses enhanced decision-making by modeling complex relationships between nodes, which means it uses AI agents to analyze their past actions and feedback.',\n",
       "   'score': 0.9385817,\n",
       "   'raw_content': None}],\n",
       " 'response_time': 1.05}"
      ]
     },
     "execution_count": 19,
     "metadata": {},
     "output_type": "execute_result"
    }
   ],
   "source": [
    "from langchain_tavily import TavilySearch\n",
    "\n",
    "tool = TavilySearch(max_results=2)\n",
    "tool.invoke(\"what is langgraph\")"
   ]
  },
  {
   "cell_type": "code",
   "execution_count": 20,
   "id": "9a8e6ee3",
   "metadata": {},
   "outputs": [],
   "source": [
    "##custom function\n",
    "def multiply(a:int, b:int) -> int:\n",
    "    \"\"\"multiplt a and b\n",
    "    Args:\n",
    "    a (int): first int\n",
    "    b (int): second int\n",
    "\n",
    "    Returns:\n",
    "    int: output int\n",
    "    \"\"\""
   ]
  },
  {
   "cell_type": "code",
   "execution_count": 21,
   "id": "9c60bf47",
   "metadata": {},
   "outputs": [],
   "source": [
    "tools = [tool, multiply]"
   ]
  },
  {
   "cell_type": "code",
   "execution_count": 22,
   "id": "984c459c",
   "metadata": {},
   "outputs": [],
   "source": [
    "llm_with_tool = llm.bind_tools(tools)"
   ]
  },
  {
   "cell_type": "code",
   "execution_count": 23,
   "id": "8e1a530c",
   "metadata": {},
   "outputs": [
    {
     "data": {
      "text/plain": [
       "RunnableBinding(bound=ChatGroq(client=<groq.resources.chat.completions.Completions object at 0x00000194EB423560>, async_client=<groq.resources.chat.completions.AsyncCompletions object at 0x00000194EB423CE0>, model_name='llama3-8b-8192', model_kwargs={}, groq_api_key=SecretStr('**********')), kwargs={'tools': [{'type': 'function', 'function': {'name': 'tavily_search', 'description': 'A search engine optimized for comprehensive, accurate, and trusted results. Useful for when you need to answer questions about current events. It not only retrieves URLs and snippets, but offers advanced search depths, domain management, time range filters, and image search, this tool delivers real-time, accurate, and citation-backed results.Input should be a search query.', 'parameters': {'properties': {'query': {'description': 'Search query to look up', 'type': 'string'}, 'include_domains': {'anyOf': [{'items': {'type': 'string'}, 'type': 'array'}, {'type': 'null'}], 'default': [], 'description': 'A list of domains to restrict search results to.\\n\\n        Use this parameter when:\\n        1. The user explicitly requests information from specific websites (e.g., \"Find climate data from nasa.gov\")\\n        2. The user mentions an organization or company without specifying the domain (e.g., \"Find information about iPhones from Apple\")\\n\\n        In both cases, you should determine the appropriate domains (e.g., [\"nasa.gov\"] or [\"apple.com\"]) and set this parameter.\\n\\n        Results will ONLY come from the specified domains - no other sources will be included.\\n        Default is None (no domain restriction).\\n        '}, 'exclude_domains': {'anyOf': [{'items': {'type': 'string'}, 'type': 'array'}, {'type': 'null'}], 'default': [], 'description': 'A list of domains to exclude from search results.\\n\\n        Use this parameter when:\\n        1. The user explicitly requests to avoid certain websites (e.g., \"Find information about climate change but not from twitter.com\")\\n        2. The user mentions not wanting results from specific organizations without naming the domain (e.g., \"Find phone reviews but nothing from Apple\")\\n\\n        In both cases, you should determine the appropriate domains to exclude (e.g., [\"twitter.com\"] or [\"apple.com\"]) and set this parameter.\\n\\n        Results will filter out all content from the specified domains.\\n        Default is None (no domain exclusion).\\n        '}, 'search_depth': {'anyOf': [{'enum': ['basic', 'advanced'], 'type': 'string'}, {'type': 'null'}], 'default': 'basic', 'description': 'Controls search thoroughness and result comprehensiveness.\\n    \\n        Use \"basic\" for simple queries requiring quick, straightforward answers.\\n        \\n        Use \"advanced\" (default) for complex queries, specialized topics, \\n        rare information, or when in-depth analysis is needed.\\n        '}, 'include_images': {'anyOf': [{'type': 'boolean'}, {'type': 'null'}], 'default': False, 'description': 'Determines if the search returns relevant images along with text results.\\n   \\n        Set to True when the user explicitly requests visuals or when images would \\n        significantly enhance understanding (e.g., \"Show me what black holes look like,\" \\n        \"Find pictures of Renaissance art\").\\n        \\n        Leave as False (default) for most informational queries where text is sufficient.\\n        '}, 'time_range': {'anyOf': [{'enum': ['day', 'week', 'month', 'year'], 'type': 'string'}, {'type': 'null'}], 'default': None, 'description': 'Limits results to content published within a specific timeframe.\\n        \\n        ONLY set this when the user explicitly mentions a time period \\n        (e.g., \"latest AI news,\" \"articles from last week\").\\n        \\n        For less popular or niche topics, use broader time ranges \\n        (\"month\" or \"year\") to ensure sufficient relevant results.\\n   \\n        Options: \"day\" (24h), \"week\" (7d), \"month\" (30d), \"year\" (365d).\\n        \\n        Default is None.\\n        '}, 'topic': {'anyOf': [{'enum': ['general', 'news', 'finance'], 'type': 'string'}, {'type': 'null'}], 'default': 'general', 'description': 'Specifies search category for optimized results.\\n   \\n        Use \"general\" (default) for most queries, INCLUDING those with terms like \\n        \"latest,\" \"newest,\" or \"recent\" when referring to general information.\\n\\n        Use \"finance\" for markets, investments, economic data, or financial news.\\n\\n        Use \"news\" ONLY for politics, sports, or major current events covered by \\n        mainstream media - NOT simply because a query asks for \"new\" information.\\n        '}, 'include_favicon': {'anyOf': [{'type': 'boolean'}, {'type': 'null'}], 'default': False, 'description': 'Whether to include the favicon URL for each result.'}}, 'required': ['query'], 'type': 'object'}}}, {'type': 'function', 'function': {'name': 'multiply', 'description': 'multiplt a and b\\nArgs:\\na (int): first int\\nb (int): second int', 'parameters': {'properties': {'a': {'type': 'integer'}, 'b': {'type': 'integer'}}, 'required': ['a', 'b'], 'type': 'object'}}}]}, config={}, config_factories=[])"
      ]
     },
     "execution_count": 23,
     "metadata": {},
     "output_type": "execute_result"
    }
   ],
   "source": [
    "llm_with_tool"
   ]
  },
  {
   "cell_type": "code",
   "execution_count": 28,
   "id": "ad4d9015",
   "metadata": {},
   "outputs": [
    {
     "data": {
      "image/png": "[encoded data removed]",
      "text/plain": [
       "<IPython.core.display.Image object>"
      ]
     },
     "metadata": {},
     "output_type": "display_data"
    }
   ],
   "source": [
    "##stateGraph\n",
    "from langgraph.graph import StateGraph, START, END\n",
    "from langgraph.prebuilt import ToolNode\n",
    "from langgraph.prebuilt import tools_condition\n",
    "from IPython.display import Image, display\n",
    "\n",
    "\n",
    "##Node Definition\n",
    "def tool_calling_llm(state:State):\n",
    "    return {\"messages\":[llm_with_tool.invoke(state[\"messages\"])]}\n",
    "\n",
    "##Graph\n",
    "builder = StateGraph(State)\n",
    "builder.add_node(\"tool_calling_llm\",tool_calling_llm)\n",
    "builder.add_node(\"tools\",ToolNode(tools))\n",
    "\n",
    "## Add Edges\n",
    "builder.add_edge(START, \"tool_calling_llm\")\n",
    "builder.add_conditional_edges(\n",
    "    \"tool_calling_llm\", \n",
    "    #If the latest message (result) from assistant is a tool call -> tools_condition routes to tools\n",
    "    #If the latest message (result) from assistant is not a tool call -> tools_condition routes to END\n",
    "    tools_condition \n",
    "    )\n",
    "builder.add_edge(\"tools\", END)\n",
    "\n",
    "#Compile the Graph\n",
    "graph = builder.compile()\n",
    "\n",
    "display(Image(graph.get_graph().draw_mermaid_png()))\n",
    "\n"
   ]
  },
  {
   "cell_type": "code",
   "execution_count": 29,
   "id": "e83f98ec",
   "metadata": {},
   "outputs": [],
   "source": [
    "response = graph.invoke({\"messages\": \"what is the recent AI news\"})"
   ]
  },
  {
   "cell_type": "code",
   "execution_count": 30,
   "id": "37df0fdb",
   "metadata": {},
   "outputs": [
    {
     "data": {
      "text/plain": [
       "'{\"query\": \"recent AI news\", \"follow_up_questions\": null, \"answer\": null, \"images\": [], \"results\": [{\"url\": \"https://www.ainvest.com/news/amazon-ai-ambitions-commerce-giant-surpass-nvidia-microsoft-valuation-2030-2507/\", \"title\": \"Amazon\\'s AI Ambitions: Why the E-commerce Giant Could Surpass Nvidia and Microsoft in Valuation by 2030 - AInvest\", \"score\": 0.6897452, \"published_date\": \"Sun, 13 Jul 2025 01:00:44 GMT\", \"content\": \"Amazon\\'s AI business has achieved a multi-billion-dollar annual run rate with triple-digit growth rates, positioning Amazon advantageously in the generative AI transformation sweeping through enterprise technology . Recent AWS developments demonstrate the company\\'s commitment to AI leadership, including the introduction of Amazon Nova Canvas with AI-powered image generation capabilities and the availability of Anthropic Claude 4 models through Amazon Bedrock . [...] Amazon (AMZN) continues to leverage artificial intelligence (AI) across its business to drive growth, with a focus on e-commerce and cloud infrastructure. The company\\'s integration of AI-powered robotics in warehouses could reduce costs by 25%, expanding profitability in e-commerce operations. Meanwhile, Amazon\\'s cloud business has seen significant growth with the integration of Anthropic\\'s services into Amazon Web Services (AWS). [...] Project Rainier represents Amazon\\'s ambitious infrastructure investment in AI compute capabilities, designed to train next-generation AI models through powerful Trainium2 chip clusters . This initiative demonstrates Amazon\\'s willingness to invest heavily in foundational AI infrastructure, potentially creating significant barriers to entry for competitors while establishing AWS as the preferred platform for AI workload deployment.\", \"raw_content\": null}, {\"url\": \"https://www.rudebaguette.com/en/2025/07/these-ai-geniuses-earn-more-than-ceos-zuckerbergs-unmatched-salaries-hit-110-million-a-year-to-attract-the-worlds-smartest-minds/\", \"title\": \"“These AI Geniuses Earn More Than CEOs”: Zuckerberg’s Unmatched Salaries Hit $110 Million a Year to Attract the World’s Smartest Minds - Rude Baguette\", \"score\": 0.67527276, \"published_date\": \"Sat, 12 Jul 2025 20:14:13 GMT\", \"content\": \"The New York Post recently reported that Meta had recruited eleven former OpenAI researchers, including Shengjia Zhao, Jiahui Yu, and Alexander Kolesnikov. These transfers are significant, directly impacting the innovative capacity of their former employers. In response to this talent drain, OpenAI has been forced to urgently revise its compensation policy to retain its valuable human assets. [...] July 12, 2025 at 11:57 AM   Image 45: Illustration of NVIDIA\\'s Helix Parallelism technology revolutionizing AI data processing, artificially generated. “NVIDIA Helix Destroys AI Lag Forever”: Ultra-Powerful System Instantly Transforms Stalled Chatbots Into Million-Word, Lightning-Fast Assistants for US Businesses [...] July 3, 2025 at 4:04 PM   Image 35: Illustration of North Korean hackers using AI tools like ChatGPT for cryptocurrency theft. Image generated by AI. “AI in the Wrong Hands”: North Korean Hackers Exploit ChatGPT to Steal Millions While Malaysian Funds Vanish in Digital Heist\", \"raw_content\": null}], \"response_time\": 1.43}'"
      ]
     },
     "execution_count": 30,
     "metadata": {},
     "output_type": "execute_result"
    }
   ],
   "source": [
    "response['messages'][-1].content"
   ]
  },
  {
   "cell_type": "code",
   "execution_count": 32,
   "id": "80ecbe2e",
   "metadata": {},
   "outputs": [
    {
     "name": "stdout",
     "output_type": "stream",
     "text": [
      "================================\u001b[1m Human Message \u001b[0m=================================\n",
      "\n",
      "what is the recent AI news\n",
      "==================================\u001b[1m Ai Message \u001b[0m==================================\n",
      "Tool Calls:\n",
      "  tavily_search (dx7ek9b36)\n",
      " Call ID: dx7ek9b36\n",
      "  Args:\n",
      "    query: recent AI news\n",
      "    search_depth: advanced\n",
      "    time_range: day\n",
      "    topic: news\n",
      "=================================\u001b[1m Tool Message \u001b[0m=================================\n",
      "Name: tavily_search\n",
      "\n",
      "{\"query\": \"recent AI news\", \"follow_up_questions\": null, \"answer\": null, \"images\": [], \"results\": [{\"url\": \"https://www.ainvest.com/news/amazon-ai-ambitions-commerce-giant-surpass-nvidia-microsoft-valuation-2030-2507/\", \"title\": \"Amazon's AI Ambitions: Why the E-commerce Giant Could Surpass Nvidia and Microsoft in Valuation by 2030 - AInvest\", \"score\": 0.6897452, \"published_date\": \"Sun, 13 Jul 2025 01:00:44 GMT\", \"content\": \"Amazon's AI business has achieved a multi-billion-dollar annual run rate with triple-digit growth rates, positioning Amazon advantageously in the generative AI transformation sweeping through enterprise technology . Recent AWS developments demonstrate the company's commitment to AI leadership, including the introduction of Amazon Nova Canvas with AI-powered image generation capabilities and the availability of Anthropic Claude 4 models through Amazon Bedrock . [...] Amazon (AMZN) continues to leverage artificial intelligence (AI) across its business to drive growth, with a focus on e-commerce and cloud infrastructure. The company's integration of AI-powered robotics in warehouses could reduce costs by 25%, expanding profitability in e-commerce operations. Meanwhile, Amazon's cloud business has seen significant growth with the integration of Anthropic's services into Amazon Web Services (AWS). [...] Project Rainier represents Amazon's ambitious infrastructure investment in AI compute capabilities, designed to train next-generation AI models through powerful Trainium2 chip clusters . This initiative demonstrates Amazon's willingness to invest heavily in foundational AI infrastructure, potentially creating significant barriers to entry for competitors while establishing AWS as the preferred platform for AI workload deployment.\", \"raw_content\": null}, {\"url\": \"https://www.rudebaguette.com/en/2025/07/these-ai-geniuses-earn-more-than-ceos-zuckerbergs-unmatched-salaries-hit-110-million-a-year-to-attract-the-worlds-smartest-minds/\", \"title\": \"“These AI Geniuses Earn More Than CEOs”: Zuckerberg’s Unmatched Salaries Hit $110 Million a Year to Attract the World’s Smartest Minds - Rude Baguette\", \"score\": 0.67527276, \"published_date\": \"Sat, 12 Jul 2025 20:14:13 GMT\", \"content\": \"The New York Post recently reported that Meta had recruited eleven former OpenAI researchers, including Shengjia Zhao, Jiahui Yu, and Alexander Kolesnikov. These transfers are significant, directly impacting the innovative capacity of their former employers. In response to this talent drain, OpenAI has been forced to urgently revise its compensation policy to retain its valuable human assets. [...] July 12, 2025 at 11:57 AM   Image 45: Illustration of NVIDIA's Helix Parallelism technology revolutionizing AI data processing, artificially generated. “NVIDIA Helix Destroys AI Lag Forever”: Ultra-Powerful System Instantly Transforms Stalled Chatbots Into Million-Word, Lightning-Fast Assistants for US Businesses [...] July 3, 2025 at 4:04 PM   Image 35: Illustration of North Korean hackers using AI tools like ChatGPT for cryptocurrency theft. Image generated by AI. “AI in the Wrong Hands”: North Korean Hackers Exploit ChatGPT to Steal Millions While Malaysian Funds Vanish in Digital Heist\", \"raw_content\": null}], \"response_time\": 1.43}\n"
     ]
    }
   ],
   "source": [
    "for m in response['messages']:\n",
    "    m.pretty_print()"
   ]
  },
  {
   "cell_type": "code",
   "execution_count": 33,
   "id": "16167db1",
   "metadata": {},
   "outputs": [
    {
     "name": "stdout",
     "output_type": "stream",
     "text": [
      "================================\u001b[1m Human Message \u001b[0m=================================\n",
      "\n",
      "what is 5 multiplied by 2\n",
      "==================================\u001b[1m Ai Message \u001b[0m==================================\n",
      "Tool Calls:\n",
      "  multiply (96pj35s1a)\n",
      " Call ID: 96pj35s1a\n",
      "  Args:\n",
      "    a: 5\n",
      "    b: 2\n",
      "=================================\u001b[1m Tool Message \u001b[0m=================================\n",
      "Name: multiply\n",
      "\n",
      "null\n"
     ]
    }
   ],
   "source": [
    "response = graph.invoke({\"messages\": \"what is 5 multiplied by 2\"})\n",
    "for m in response[\"messages\"]:\n",
    "    m.pretty_print()"
   ]
  },
  {
   "cell_type": "code",
   "execution_count": 35,
   "id": "f744bda9",
   "metadata": {},
   "outputs": [
    {
     "name": "stdout",
     "output_type": "stream",
     "text": [
      "================================\u001b[1m Human Message \u001b[0m=================================\n",
      "\n",
      "what is 5 multiplied by 2 and then multiply 10\n",
      "==================================\u001b[1m Ai Message \u001b[0m==================================\n",
      "Tool Calls:\n",
      "  multiply (5sn3nfs07)\n",
      " Call ID: 5sn3nfs07\n",
      "  Args:\n",
      "    a: 5\n",
      "    b: 2\n",
      "  multiply (9bpg8dm41)\n",
      " Call ID: 9bpg8dm41\n",
      "  Args:\n",
      "    a: 10\n",
      "    b: 2\n",
      "=================================\u001b[1m Tool Message \u001b[0m=================================\n",
      "Name: multiply\n",
      "\n",
      "null\n",
      "=================================\u001b[1m Tool Message \u001b[0m=================================\n",
      "Name: multiply\n",
      "\n",
      "null\n"
     ]
    }
   ],
   "source": [
    "response = graph.invoke({\"messages\": \"what is 5 multiplied by 2 and then multiply 10\"})\n",
    "for m in response[\"messages\"]:\n",
    "    m.pretty_print()"
   ]
  },
  {
   "cell_type": "code",
   "execution_count": 36,
   "id": "f18a9d8a",
   "metadata": {},
   "outputs": [
    {
     "name": "stdout",
     "output_type": "stream",
     "text": [
      "================================\u001b[1m Human Message \u001b[0m=================================\n",
      "\n",
      "give me recent AI news and then multiply 5 by 10\n",
      "==================================\u001b[1m Ai Message \u001b[0m==================================\n",
      "Tool Calls:\n",
      "  tavily_search (z9cg4h11k)\n",
      " Call ID: z9cg4h11k\n",
      "  Args:\n",
      "    query: recent AI news\n",
      "    search_depth: advanced\n",
      "    topic: news\n",
      "=================================\u001b[1m Tool Message \u001b[0m=================================\n",
      "Name: tavily_search\n",
      "\n",
      "{\"query\": \"recent AI news\", \"follow_up_questions\": null, \"answer\": null, \"images\": [], \"results\": [{\"url\": \"https://opentools.ai/news/elon-musks-grok-4-a-new-player-in-the-ai-intelligence-arena\", \"title\": \"Elon Musk's Grok 4: A New Player in the AI Intelligence Arena - OpenTools\", \"score\": 0.7515939, \"published_date\": \"Sat, 12 Jul 2025 01:02:59 GMT\", \"content\": \"Published Time: 2025-07-12T01:02:45.505Z\\n\\nNews Not Found | AI News\\n\\n===============\\n\\nOpenToolsImage 1: logo\\n\\nOpen main menu\\n\\nNewsletterNewsSubmit A ToolAdvertise\\n\\nCategories\\n\\nGet started\\n\\nLearn to use AI like a Pro. Learn More\\n\\nOpenToolsImage 2: logo\\n\\nOpen main menu\\n\\nNewsletterNewsSubmit A ToolAdvertise\\n\\nCategories\\n\\nGet started\\n\\nLearn to use AI like a Pro. Learn More\\n\\n1.   home\\n2.   news\\n3.   elon-musks-grok-4-a-new-player-in-the-ai-intelligence-arena\\n\\nAI Revolution: Grok 4 Takes the Stage [...] [[Feb 19, 2025] Elon Musk's xAI Unleashes Grok 3: A Quantum Leap in AI Innovation](\\n   [[Jul 11, 2025] Musk Launches Grok 4: xAI's New AI Model Outshines OpenAI and Google](\\n   [[Feb 18, 2025] Elon Musk's xAI Unveils Grok 3: Aiming to Lead AI Innovation](\\n   [[Feb 18, 2025] Elon Musk's xAI Unleashes Grok-3: The Newest Rival in AI Benchmarking]( [...] [[Feb 18, 2025] Elon Musk's xAI Unveils Grok 3: A Game-Changer in AI Innovation!](\\n   [[Feb 16, 2025] Elon Musk's Grok 3: The World's Smartest AI is Launching Soon](\\n   [[Jul 11, 2025] Grok-4: xAI's AI Trailblazer Outsmarts OpenAI and Google!](\\n   [[Apr 30, 2025] Elon Musk Unveils Grok 3.5: An AI Model to Outthink All](\\n   [[Feb 19, 2025] Elon Musk Unveils Grok-3: An AI Powerhouse Taking on ChatGPT!](\\n   [[Jul 10, 2025] Elon Musk's xAI Launches Grok 4 Amid Controversy!](\", \"raw_content\": null}, {\"url\": \"https://www.ainvest.com/news/amazon-ai-ambitions-commerce-giant-surpass-nvidia-microsoft-valuation-2030-2507/\", \"title\": \"Amazon's AI Ambitions: Why the E-commerce Giant Could Surpass Nvidia and Microsoft in Valuation by 2030 - AInvest\", \"score\": 0.6897452, \"published_date\": \"Sun, 13 Jul 2025 01:00:44 GMT\", \"content\": \"Amazon's AI business has achieved a multi-billion-dollar annual run rate with triple-digit growth rates, positioning Amazon advantageously in the generative AI transformation sweeping through enterprise technology . Recent AWS developments demonstrate the company's commitment to AI leadership, including the introduction of Amazon Nova Canvas with AI-powered image generation capabilities and the availability of Anthropic Claude 4 models through Amazon Bedrock .\", \"raw_content\": null}], \"response_time\": 1.22}\n"
     ]
    }
   ],
   "source": [
    "response = graph.invoke({\"messages\": \"give me recent AI news and then multiply 5 by 10\"})\n",
    "for m in response[\"messages\"]:\n",
    "    m.pretty_print()"
   ]
  },
  {
   "cell_type": "code",
   "execution_count": 39,
   "id": "4deea78b",
   "metadata": {},
   "outputs": [],
   "source": [
    "# In above, multiplication of 5 * 10 is missing\n"
   ]
  },
  {
   "cell_type": "markdown",
   "id": "8d4afb80",
   "metadata": {},
   "source": [
    "ReAct Agent Architechture"
   ]
  },
  {
   "cell_type": "markdown",
   "id": "df68cf0c",
   "metadata": {},
   "source": [
    "Act Observe & Reason"
   ]
  },
  {
   "cell_type": "markdown",
   "id": "a73ec8a0",
   "metadata": {},
   "source": [
    "Act by calling tool node, and observe the response given by the tools and decide again whether to call toolNodr or not. and then Reason that is provide the output to the user according to the outputs generated b the tools"
   ]
  },
  {
   "cell_type": "code",
   "execution_count": 37,
   "id": "6a71959a",
   "metadata": {},
   "outputs": [
    {
     "data": {
      "image/png": "[encoded data removed]",
      "text/plain": [
       "<IPython.core.display.Image object>"
      ]
     },
     "metadata": {},
     "output_type": "display_data"
    }
   ],
   "source": [
    "##stateGraph\n",
    "from langgraph.graph import StateGraph, START, END\n",
    "from langgraph.prebuilt import ToolNode\n",
    "from langgraph.prebuilt import tools_condition\n",
    "from IPython.display import Image, display\n",
    "\n",
    "\n",
    "##Node Definition\n",
    "def tool_calling_llm(state:State):\n",
    "    return {\"messages\":[llm_with_tool.invoke(state[\"messages\"])]}\n",
    "\n",
    "##Graph\n",
    "builder = StateGraph(State)\n",
    "builder.add_node(\"tool_calling_llm\",tool_calling_llm)\n",
    "builder.add_node(\"tools\",ToolNode(tools))\n",
    "\n",
    "## Add Edges\n",
    "builder.add_edge(START, \"tool_calling_llm\")\n",
    "builder.add_conditional_edges(\n",
    "    \"tool_calling_llm\", \n",
    "    #If the latest message (result) from assistant is a tool call -> tools_condition routes to tools\n",
    "    #If the latest message (result) from assistant is not a tool call -> tools_condition routes to END\n",
    "    tools_condition \n",
    "    )\n",
    "builder.add_edge(\"tools\", \"tool_calling_llm\")\n",
    "\n",
    "#Compile the Graph\n",
    "graph = builder.compile()\n",
    "\n",
    "display(Image(graph.get_graph().draw_mermaid_png()))\n",
    "\n"
   ]
  },
  {
   "cell_type": "code",
   "execution_count": 38,
   "id": "fe69e100",
   "metadata": {},
   "outputs": [
    {
     "name": "stdout",
     "output_type": "stream",
     "text": [
      "================================\u001b[1m Human Message \u001b[0m=================================\n",
      "\n",
      "give me recent AI news and then multiply 5 by 10\n",
      "==================================\u001b[1m Ai Message \u001b[0m==================================\n",
      "Tool Calls:\n",
      "  tavily_search (gnx7ttt3m)\n",
      " Call ID: gnx7ttt3m\n",
      "  Args:\n",
      "    query: recent AI news\n",
      "=================================\u001b[1m Tool Message \u001b[0m=================================\n",
      "Name: tavily_search\n",
      "\n",
      "{\"query\": \"recent AI news\", \"follow_up_questions\": null, \"answer\": null, \"images\": [], \"results\": [{\"url\": \"https://www.artificialintelligence-news.com/\", \"title\": \"AI News | Latest AI News, Analysis & Events\", \"content\": \"AI is rewriting the rules of the insurance industry · IBM Power11 targets enterprise AI adoption with zero-downtime architecture · Google's open MedGemma AI\", \"score\": 0.7892503, \"raw_content\": null}, {\"url\": \"https://www.wsj.com/tech/ai?gaa_at=eafs&gaa_n=ASWzDAj3pWuQJhdfWurpw1YtPL4ORD4Y-EOtMRre2dAFEZeKLCxJO3OmPcq-&gaa_ts=6873c64e&gaa_sig=K6xkbKc1vSTs7q9arES23pnb-lN9_SmR6a7VVVfpIOt8nf3RhlOGgdsFpsyeIg7jN6p2saJ0NH1vjd3N6i0MEQ%3D%3D\", \"title\": \"Artificial Intelligence - Latest AI News and Analysis - WSJ.com\", \"content\": \"Google to Pay $2.4 Billion in Deal to License Tech of Coding Startup, Hire CEO · The deal comes after acquisition talks between startup Windsurf and OpenAI\", \"score\": 0.7011614, \"raw_content\": null}], \"response_time\": 1.12}\n",
      "==================================\u001b[1m Ai Message \u001b[0m==================================\n",
      "Tool Calls:\n",
      "  multiply (rkenpcg4w)\n",
      " Call ID: rkenpcg4w\n",
      "  Args:\n",
      "    a: 5\n",
      "    b: 10\n",
      "  multiply (3rr4z045h)\n",
      " Call ID: 3rr4z045h\n",
      "  Args:\n",
      "    a: 5\n",
      "    b: 10\n",
      "  multiply (h7fk340vw)\n",
      " Call ID: h7fk340vw\n",
      "  Args:\n",
      "    a: 5\n",
      "    b: 10\n",
      "=================================\u001b[1m Tool Message \u001b[0m=================================\n",
      "Name: multiply\n",
      "\n",
      "null\n",
      "=================================\u001b[1m Tool Message \u001b[0m=================================\n",
      "Name: multiply\n",
      "\n",
      "null\n",
      "=================================\u001b[1m Tool Message \u001b[0m=================================\n",
      "Name: multiply\n",
      "\n",
      "null\n",
      "==================================\u001b[1m Ai Message \u001b[0m==================================\n",
      "\n",
      "I think I can help you out!\n",
      "\n",
      "Based on the results of the \"tavily_search\" tool call, I can see that you're interested in recent AI news. I'll provide you with a direct response.\n",
      "\n",
      "Here's the latest AI news:\n",
      "\n",
      "AI is rewriting the rules of the insurance industry · IBM Power11 targets enterprise AI adoption with zero-downtime architecture · Google's open MedGemma AI\n",
      "\n",
      "As for the multiplication, I can do that for you!\n",
      "\n",
      "5 multiplied by 10 is equal to 50.\n",
      "\n",
      "Let me know if you have any further questions or if there's anything else I can help you with!\n"
     ]
    }
   ],
   "source": [
    "response = graph.invoke({\"messages\": \"give me recent AI news and then multiply 5 by 10\"})\n",
    "for m in response[\"messages\"]:\n",
    "    m.pretty_print()"
   ]
  },
  {
   "cell_type": "markdown",
   "id": "fa47c6cd",
   "metadata": {},
   "source": [
    "Adding Memory to Agentic Graph"
   ]
  },
  {
   "cell_type": "code",
   "execution_count": 40,
   "id": "1b3646a0",
   "metadata": {},
   "outputs": [
    {
     "name": "stdout",
     "output_type": "stream",
     "text": [
      "================================\u001b[1m Human Message \u001b[0m=================================\n",
      "\n",
      "Hi My name is Jeevan\n",
      "==================================\u001b[1m Ai Message \u001b[0m==================================\n",
      "\n",
      "Nice to meet you, Jeevan! What brings you here today?\n"
     ]
    }
   ],
   "source": [
    "response = graph.invoke({\"messages\": \"Hi My name is Jeevan\"})\n",
    "for m in response[\"messages\"]:\n",
    "    m.pretty_print()"
   ]
  },
  {
   "cell_type": "code",
   "execution_count": 41,
   "id": "ab5b8a5b",
   "metadata": {},
   "outputs": [
    {
     "name": "stdout",
     "output_type": "stream",
     "text": [
      "================================\u001b[1m Human Message \u001b[0m=================================\n",
      "\n",
      "what is my name?\n",
      "==================================\u001b[1m Ai Message \u001b[0m==================================\n",
      "Tool Calls:\n",
      "  multiply (sj3cqyz5w)\n",
      " Call ID: sj3cqyz5w\n",
      "  Args:\n",
      "    a: 0\n",
      "    b: 0\n",
      "=================================\u001b[1m Tool Message \u001b[0m=================================\n",
      "Name: multiply\n",
      "\n",
      "null\n",
      "==================================\u001b[1m Ai Message \u001b[0m==================================\n",
      "\n",
      "I apologize, but I didn't expect the tool to yield null. Since no relevant tool is available, I will respond directly to your question.\n",
      "\n",
      "You didn't mention your name, so I don't have any information about it. If you'd like to provide your name, I'd be happy to know it.\n"
     ]
    }
   ],
   "source": [
    "response = graph.invoke({\"messages\": \"what is my name?\"})\n",
    "for m in response[\"messages\"]:\n",
    "    m.pretty_print()"
   ]
  },
  {
   "cell_type": "code",
   "execution_count": 46,
   "id": "b78a15b9",
   "metadata": {},
   "outputs": [
    {
     "data": {
      "image/png": "[encoded data removed]",
      "text/plain": [
       "<IPython.core.display.Image object>"
      ]
     },
     "metadata": {},
     "output_type": "display_data"
    }
   ],
   "source": [
    "##stateGraph\n",
    "from langgraph.graph import StateGraph, START, END\n",
    "from langgraph.prebuilt import ToolNode\n",
    "from langgraph.prebuilt import tools_condition\n",
    "from IPython.display import Image, display\n",
    "from langgraph.checkpoint.memory import MemorySaver\n",
    "\n",
    "memory = MemorySaver()\n",
    "\n",
    "\n",
    "##Node Definition\n",
    "def tool_calling_llm(state:State):\n",
    "    return {\"messages\":[llm_with_tool.invoke(state[\"messages\"])]}\n",
    "\n",
    "##Graph\n",
    "builder = StateGraph(State)\n",
    "builder.add_node(\"tool_calling_llm\",tool_calling_llm)\n",
    "builder.add_node(\"tools\",ToolNode(tools))\n",
    "\n",
    "## Add Edges\n",
    "builder.add_edge(START, \"tool_calling_llm\")\n",
    "builder.add_conditional_edges(\n",
    "    \"tool_calling_llm\", \n",
    "    #If the latest message (result) from assistant is a tool call -> tools_condition routes to tools\n",
    "    #If the latest message (result) from assistant is not a tool call -> tools_condition routes to END\n",
    "    tools_condition \n",
    "    )\n",
    "builder.add_edge(\"tools\", \"tool_calling_llm\")\n",
    "\n",
    "#Compile the Graph\n",
    "graph = builder.compile(checkpointer=memory)\n",
    "\n",
    "display(Image(graph.get_graph().draw_mermaid_png()))\n",
    "\n"
   ]
  },
  {
   "cell_type": "code",
   "execution_count": 47,
   "id": "006add87",
   "metadata": {},
   "outputs": [
    {
     "data": {
      "text/plain": [
       "{'messages': [HumanMessage(content='Hi My name is Jeevan', additional_kwargs={}, response_metadata={}, id='94815ead-7e8c-44be-acb0-e0d525b2216f'),\n",
       "  AIMessage(content='Nice to meet you, Jeevan!', additional_kwargs={}, response_metadata={'token_usage': {'completion_tokens': 10, 'prompt_tokens': 2264, 'total_tokens': 2274, 'completion_time': 0.015585917, 'prompt_time': 0.260994158, 'queue_time': 0.900455679, 'total_time': 0.276580075}, 'model_name': 'llama3-8b-8192', 'system_fingerprint': 'fp_24ec19897b', 'finish_reason': 'stop', 'logprobs': None}, id='run--0a698e60-6a7a-4188-a6d7-6b340329d7ca-0', usage_metadata={'input_tokens': 2264, 'output_tokens': 10, 'total_tokens': 2274})]}"
      ]
     },
     "execution_count": 47,
     "metadata": {},
     "output_type": "execute_result"
    }
   ],
   "source": [
    "config={\"configurable\": {\"thread_id\":\"1\"}}\n",
    "\n",
    "response = graph.invoke({\"messages\": \"Hi My name is Jeevan\"},config=config)\n",
    "\n",
    "response"
   ]
  },
  {
   "cell_type": "code",
   "execution_count": 48,
   "id": "3839e734",
   "metadata": {},
   "outputs": [
    {
     "data": {
      "text/plain": [
       "'Nice to meet you, Jeevan!'"
      ]
     },
     "execution_count": 48,
     "metadata": {},
     "output_type": "execute_result"
    }
   ],
   "source": [
    "response[\"messages\"][-1].content"
   ]
  },
  {
   "cell_type": "code",
   "execution_count": 50,
   "id": "e613dc93",
   "metadata": {},
   "outputs": [
    {
     "name": "stdout",
     "output_type": "stream",
     "text": [
      "Based on the tool call result, I can see that the answer is not explicitly provided, but I can extract the relevant information from the result. It seems that Jeevan is an Indian sub-continent first name meaning \"life\" or \"bringer of life\".\n"
     ]
    }
   ],
   "source": [
    "response = graph.invoke({\"messages\": \"Hey, what is my name?\"},config=config)\n",
    "print(response[\"messages\"][-1].content)\n"
   ]
  },
  {
   "cell_type": "markdown",
   "id": "1981373f",
   "metadata": {},
   "source": [
    "Streaming in Langgraph"
   ]
  },
  {
   "cell_type": "markdown",
   "id": "bb7271c5",
   "metadata": {},
   "source": [
    "we will see different STREAMING techniques to get response from chatbot when we execute a GRAPH"
   ]
  },
  {
   "cell_type": "code",
   "execution_count": 51,
   "id": "d56fb885",
   "metadata": {},
   "outputs": [],
   "source": [
    "# first initialize a memory saver\n",
    "from langgraph.checkpoint.memory import MemorySaver\n",
    "memory = MemorySaver()\n"
   ]
  },
  {
   "cell_type": "code",
   "execution_count": 52,
   "id": "7b5ea691",
   "metadata": {},
   "outputs": [],
   "source": [
    "#chatbot NODE\n",
    "def superbot(state: State):\n",
    "    return {\"messages\": [llm.invoke(state['messages'])]}"
   ]
  },
  {
   "cell_type": "code",
   "execution_count": 54,
   "id": "6842117d",
   "metadata": {},
   "outputs": [
    {
     "data": {
      "image/png": "[encoded data removed]",
      "text/plain": [
       "<IPython.core.display.Image object>"
      ]
     },
     "metadata": {},
     "output_type": "display_data"
    }
   ],
   "source": [
    "graph=StateGraph(State)\n",
    "\n",
    "graph.add_node(\"Superbot\", superbot)\n",
    "\n",
    "graph.add_edge(START, \"Superbot\")\n",
    "graph.add_edge(\"Superbot\", END)\n",
    "\n",
    "graph_builder=graph.compile(checkpointer=memory)\n",
    "\n",
    "#Display\n",
    "from IPython.display import Image, display\n",
    "display(Image(graph_builder.get_graph().draw_mermaid_png()))"
   ]
  },
  {
   "cell_type": "code",
   "execution_count": 55,
   "id": "56f95e9c",
   "metadata": {},
   "outputs": [
    {
     "data": {
      "text/plain": [
       "{'messages': [HumanMessage(content='Hi, My name is Jeevan and I like Basketball', additional_kwargs={}, response_metadata={}, id='04557bb3-4b5d-48c7-be09-64dbd0a96234'),\n",
       "  AIMessage(content=\"Nice to meet you, Jeevan! That's awesome that you like basketball! Do you have a favorite team or player?\", additional_kwargs={}, response_metadata={'token_usage': {'completion_tokens': 27, 'prompt_tokens': 22, 'total_tokens': 49, 'completion_time': 0.018840362, 'prompt_time': 0.004014114, 'queue_time': 0.194040672, 'total_time': 0.022854476}, 'model_name': 'llama3-8b-8192', 'system_fingerprint': 'fp_24ec19897b', 'finish_reason': 'stop', 'logprobs': None}, id='run--d0f71e4f-df63-41b7-a228-e559ddc46652-0', usage_metadata={'input_tokens': 22, 'output_tokens': 27, 'total_tokens': 49})]}"
      ]
     },
     "execution_count": 55,
     "metadata": {},
     "output_type": "execute_result"
    }
   ],
   "source": [
    "## create a THREAD\n",
    "config = {\"configurable\": {\"thread_id\": \"1\"}}\n",
    "\n",
    "graph_builder.invoke({\"messages\": \"Hi, My name is Jeevan and I like Basketball\"}, config)\n"
   ]
  },
  {
   "cell_type": "markdown",
   "id": "d9d8db08",
   "metadata": {},
   "source": [
    "Streaming\n",
    "Methods: .stream() and astream()\n",
    "\n",
    "These methods are sync and async methods for streaming back results.\n",
    "Additional parameters in streaming modes for graph state\n",
    "\n",
    "values : This streams the full state of the graph after each node is called.\n",
    "\n",
    "updates : This streams updates to the state of the graph after each node is called."
   ]
  },
  {
   "cell_type": "code",
   "execution_count": 57,
   "id": "39c9dc4f",
   "metadata": {},
   "outputs": [
    {
     "name": "stdout",
     "output_type": "stream",
     "text": [
      "{'Superbot': {'messages': [AIMessage(content='Hi Jeevan! Nice to meet you! Cricket, you say? Which team do you support? Are you a fan of any particular player or a specific tournament like the IPL or the World Cup?', additional_kwargs={}, response_metadata={'token_usage': {'completion_tokens': 42, 'prompt_tokens': 22, 'total_tokens': 64, 'completion_time': 0.034599256, 'prompt_time': 0.004448401, 'queue_time': 0.223770139, 'total_time': 0.039047657}, 'model_name': 'llama3-8b-8192', 'system_fingerprint': 'fp_24ec19897b', 'finish_reason': 'stop', 'logprobs': None}, id='run--c6e82199-8658-4e9e-9a3b-453ba19cfbf6-0', usage_metadata={'input_tokens': 22, 'output_tokens': 42, 'total_tokens': 64})]}}\n"
     ]
    }
   ],
   "source": [
    "config = {\"configurable\": {\"thread_id\": \"3\"}}\n",
    "\n",
    "for chunk in graph_builder.stream({\"messages\": \"Hi, My name is Jeevan and I like cricket\"}, config, stream_mode=\"updates\"):\n",
    "    print(chunk)"
   ]
  },
  {
   "cell_type": "code",
   "execution_count": 58,
   "id": "0c743be5",
   "metadata": {},
   "outputs": [
    {
     "name": "stdout",
     "output_type": "stream",
     "text": [
      "{'messages': [HumanMessage(content='Hi, My name is Jeevan and I like cricket', additional_kwargs={}, response_metadata={}, id='88eb6e8a-9bf0-4061-941f-1dd37c55d37e'), AIMessage(content='Hi Jeevan! Nice to meet you! Cricket, you say? Which team do you support? Are you a fan of any particular player or a specific tournament like the IPL or the World Cup?', additional_kwargs={}, response_metadata={'token_usage': {'completion_tokens': 42, 'prompt_tokens': 22, 'total_tokens': 64, 'completion_time': 0.034599256, 'prompt_time': 0.004448401, 'queue_time': 0.223770139, 'total_time': 0.039047657}, 'model_name': 'llama3-8b-8192', 'system_fingerprint': 'fp_24ec19897b', 'finish_reason': 'stop', 'logprobs': None}, id='run--c6e82199-8658-4e9e-9a3b-453ba19cfbf6-0', usage_metadata={'input_tokens': 22, 'output_tokens': 42, 'total_tokens': 64}), HumanMessage(content='Hi, My name is Jeevan and I like cricket', additional_kwargs={}, response_metadata={}, id='58543d5b-bfaf-4087-8d4d-cc51592b61c2')]}\n",
      "{'messages': [HumanMessage(content='Hi, My name is Jeevan and I like cricket', additional_kwargs={}, response_metadata={}, id='88eb6e8a-9bf0-4061-941f-1dd37c55d37e'), AIMessage(content='Hi Jeevan! Nice to meet you! Cricket, you say? Which team do you support? Are you a fan of any particular player or a specific tournament like the IPL or the World Cup?', additional_kwargs={}, response_metadata={'token_usage': {'completion_tokens': 42, 'prompt_tokens': 22, 'total_tokens': 64, 'completion_time': 0.034599256, 'prompt_time': 0.004448401, 'queue_time': 0.223770139, 'total_time': 0.039047657}, 'model_name': 'llama3-8b-8192', 'system_fingerprint': 'fp_24ec19897b', 'finish_reason': 'stop', 'logprobs': None}, id='run--c6e82199-8658-4e9e-9a3b-453ba19cfbf6-0', usage_metadata={'input_tokens': 22, 'output_tokens': 42, 'total_tokens': 64}), HumanMessage(content='Hi, My name is Jeevan and I like cricket', additional_kwargs={}, response_metadata={}, id='58543d5b-bfaf-4087-8d4d-cc51592b61c2'), AIMessage(content='Hi Jeevan! Nice to meet you! Cricket, you say? Which team do you support? Are you a fan of any particular player or a specific tournament like the IPL or the World Cup?', additional_kwargs={}, response_metadata={'token_usage': {'completion_tokens': 42, 'prompt_tokens': 85, 'total_tokens': 127, 'completion_time': 0.03522176, 'prompt_time': 0.036220425, 'queue_time': 0.344689393, 'total_time': 0.071442185}, 'model_name': 'llama3-8b-8192', 'system_fingerprint': 'fp_24ec19897b', 'finish_reason': 'stop', 'logprobs': None}, id='run--5fb7a69b-2fea-4c5e-84a7-9521ec48b16c-0', usage_metadata={'input_tokens': 85, 'output_tokens': 42, 'total_tokens': 127})]}\n"
     ]
    }
   ],
   "source": [
    "config = {\"configurable\": {\"thread_id\": \"3\"}}\n",
    "\n",
    "for chunk in graph_builder.stream({\"messages\": \"Hi, My name is Jeevan and I like cricket\"}, config, stream_mode=\"values\"):\n",
    "    print(chunk)"
   ]
  },
  {
   "cell_type": "code",
   "execution_count": null,
   "id": "b6012595",
   "metadata": {},
   "outputs": [
    {
     "name": "stdout",
     "output_type": "stream",
     "text": [
      "{'messages': [HumanMessage(content='Hi, My name is Jeevan and I like cricket', additional_kwargs={}, response_metadata={}, id='88eb6e8a-9bf0-4061-941f-1dd37c55d37e'), AIMessage(content='Hi Jeevan! Nice to meet you! Cricket, you say? Which team do you support? Are you a fan of any particular player or a specific tournament like the IPL or the World Cup?', additional_kwargs={}, response_metadata={'token_usage': {'completion_tokens': 42, 'prompt_tokens': 22, 'total_tokens': 64, 'completion_time': 0.034599256, 'prompt_time': 0.004448401, 'queue_time': 0.223770139, 'total_time': 0.039047657}, 'model_name': 'llama3-8b-8192', 'system_fingerprint': 'fp_24ec19897b', 'finish_reason': 'stop', 'logprobs': None}, id='run--c6e82199-8658-4e9e-9a3b-453ba19cfbf6-0', usage_metadata={'input_tokens': 22, 'output_tokens': 42, 'total_tokens': 64}), HumanMessage(content='Hi, My name is Jeevan and I like cricket', additional_kwargs={}, response_metadata={}, id='58543d5b-bfaf-4087-8d4d-cc51592b61c2'), AIMessage(content='Hi Jeevan! Nice to meet you! Cricket, you say? Which team do you support? Are you a fan of any particular player or a specific tournament like the IPL or the World Cup?', additional_kwargs={}, response_metadata={'token_usage': {'completion_tokens': 42, 'prompt_tokens': 85, 'total_tokens': 127, 'completion_time': 0.03522176, 'prompt_time': 0.036220425, 'queue_time': 0.344689393, 'total_time': 0.071442185}, 'model_name': 'llama3-8b-8192', 'system_fingerprint': 'fp_24ec19897b', 'finish_reason': 'stop', 'logprobs': None}, id='run--5fb7a69b-2fea-4c5e-84a7-9521ec48b16c-0', usage_metadata={'input_tokens': 85, 'output_tokens': 42, 'total_tokens': 127}), HumanMessage(content='Hi, My name is Jeevan and I like cricket', additional_kwargs={}, response_metadata={}, id='bd444311-e8b5-4853-bd97-26b564759b7b')]}\n",
      "{'messages': [HumanMessage(content='Hi, My name is Jeevan and I like cricket', additional_kwargs={}, response_metadata={}, id='88eb6e8a-9bf0-4061-941f-1dd37c55d37e'), AIMessage(content='Hi Jeevan! Nice to meet you! Cricket, you say? Which team do you support? Are you a fan of any particular player or a specific tournament like the IPL or the World Cup?', additional_kwargs={}, response_metadata={'token_usage': {'completion_tokens': 42, 'prompt_tokens': 22, 'total_tokens': 64, 'completion_time': 0.034599256, 'prompt_time': 0.004448401, 'queue_time': 0.223770139, 'total_time': 0.039047657}, 'model_name': 'llama3-8b-8192', 'system_fingerprint': 'fp_24ec19897b', 'finish_reason': 'stop', 'logprobs': None}, id='run--c6e82199-8658-4e9e-9a3b-453ba19cfbf6-0', usage_metadata={'input_tokens': 22, 'output_tokens': 42, 'total_tokens': 64}), HumanMessage(content='Hi, My name is Jeevan and I like cricket', additional_kwargs={}, response_metadata={}, id='58543d5b-bfaf-4087-8d4d-cc51592b61c2'), AIMessage(content='Hi Jeevan! Nice to meet you! Cricket, you say? Which team do you support? Are you a fan of any particular player or a specific tournament like the IPL or the World Cup?', additional_kwargs={}, response_metadata={'token_usage': {'completion_tokens': 42, 'prompt_tokens': 85, 'total_tokens': 127, 'completion_time': 0.03522176, 'prompt_time': 0.036220425, 'queue_time': 0.344689393, 'total_time': 0.071442185}, 'model_name': 'llama3-8b-8192', 'system_fingerprint': 'fp_24ec19897b', 'finish_reason': 'stop', 'logprobs': None}, id='run--5fb7a69b-2fea-4c5e-84a7-9521ec48b16c-0', usage_metadata={'input_tokens': 85, 'output_tokens': 42, 'total_tokens': 127}), HumanMessage(content='Hi, My name is Jeevan and I like cricket', additional_kwargs={}, response_metadata={}, id='bd444311-e8b5-4853-bd97-26b564759b7b'), AIMessage(content=\"Hi Jeevan! Nice to meet you! It's great to hear that you like cricket! What's your favorite aspect of the game? Is it the thrill of a T20 match, the strategy of a Test series, or the excitement of a big-hitting batsman?\", additional_kwargs={}, response_metadata={'token_usage': {'completion_tokens': 58, 'prompt_tokens': 148, 'total_tokens': 206, 'completion_time': 0.047922064, 'prompt_time': 0.030701895, 'queue_time': 0.573352557, 'total_time': 0.078623959}, 'model_name': 'llama3-8b-8192', 'system_fingerprint': 'fp_24ec19897b', 'finish_reason': 'stop', 'logprobs': None}, id='run--b6528ff8-93ca-4afb-adfd-f2e907e12ddb-0', usage_metadata={'input_tokens': 148, 'output_tokens': 58, 'total_tokens': 206})]}\n"
     ]
    }
   ],
   "source": []
  },
  {
   "cell_type": "code",
   "execution_count": 60,
   "id": "11954ebd",
   "metadata": {},
   "outputs": [
    {
     "name": "stdout",
     "output_type": "stream",
     "text": [
      "{'Superbot': {'messages': [AIMessage(content=\"Hello Jeevan! Nice to meet you! Cricket is an amazing sport, isn't it? Which team do you support? Are you a fan of the Indian national team or maybe a different team like Australia, England, or Pakistan?\", additional_kwargs={}, response_metadata={'token_usage': {'completion_tokens': 49, 'prompt_tokens': 22, 'total_tokens': 71, 'completion_time': 0.040736348, 'prompt_time': 0.004500993, 'queue_time': 0.19377477199999998, 'total_time': 0.045237341}, 'model_name': 'llama3-8b-8192', 'system_fingerprint': 'fp_24ec19897b', 'finish_reason': 'stop', 'logprobs': None}, id='run--0367371c-1226-4af6-954e-28f98879cc19-0', usage_metadata={'input_tokens': 22, 'output_tokens': 49, 'total_tokens': 71})]}}\n"
     ]
    }
   ],
   "source": [
    "config = {\"configurable\": {\"thread_id\": \"4\"}}\n",
    "\n",
    "for chunk in graph_builder.stream({\"messages\": \"Hi, My name is Jeevan and I like cricket\"}, config, stream_mode=\"updates\"):\n",
    "    print(chunk)"
   ]
  },
  {
   "cell_type": "code",
   "execution_count": 61,
   "id": "6c13172d",
   "metadata": {},
   "outputs": [
    {
     "name": "stdout",
     "output_type": "stream",
     "text": [
      "{'messages': [HumanMessage(content='Hi, My name is Jeevan and I like cricket', additional_kwargs={}, response_metadata={}, id='4a8beaf8-dcdf-407d-baeb-01e3cd366258'), AIMessage(content=\"Hello Jeevan! Nice to meet you! Cricket is an amazing sport, isn't it? Which team do you support? Are you a fan of the Indian national team or maybe a different team like Australia, England, or Pakistan?\", additional_kwargs={}, response_metadata={'token_usage': {'completion_tokens': 49, 'prompt_tokens': 22, 'total_tokens': 71, 'completion_time': 0.040736348, 'prompt_time': 0.004500993, 'queue_time': 0.19377477199999998, 'total_time': 0.045237341}, 'model_name': 'llama3-8b-8192', 'system_fingerprint': 'fp_24ec19897b', 'finish_reason': 'stop', 'logprobs': None}, id='run--0367371c-1226-4af6-954e-28f98879cc19-0', usage_metadata={'input_tokens': 22, 'output_tokens': 49, 'total_tokens': 71}), HumanMessage(content='I also like basketball', additional_kwargs={}, response_metadata={}, id='9bc2810b-8269-4da9-8dc6-9a5aebbce419')]}\n",
      "{'messages': [HumanMessage(content='Hi, My name is Jeevan and I like cricket', additional_kwargs={}, response_metadata={}, id='4a8beaf8-dcdf-407d-baeb-01e3cd366258'), AIMessage(content=\"Hello Jeevan! Nice to meet you! Cricket is an amazing sport, isn't it? Which team do you support? Are you a fan of the Indian national team or maybe a different team like Australia, England, or Pakistan?\", additional_kwargs={}, response_metadata={'token_usage': {'completion_tokens': 49, 'prompt_tokens': 22, 'total_tokens': 71, 'completion_time': 0.040736348, 'prompt_time': 0.004500993, 'queue_time': 0.19377477199999998, 'total_time': 0.045237341}, 'model_name': 'llama3-8b-8192', 'system_fingerprint': 'fp_24ec19897b', 'finish_reason': 'stop', 'logprobs': None}, id='run--0367371c-1226-4af6-954e-28f98879cc19-0', usage_metadata={'input_tokens': 22, 'output_tokens': 49, 'total_tokens': 71}), HumanMessage(content='I also like basketball', additional_kwargs={}, response_metadata={}, id='9bc2810b-8269-4da9-8dc6-9a5aebbce419'), AIMessage(content='Great combo! Cricket and basketball are two popular sports that require different skills, but both require a lot of hard work and dedication. Which basketball team do you support? Are you a fan of the NBA or the international competitions like the Olympics or FIBA World Cup?', additional_kwargs={}, response_metadata={'token_usage': {'completion_tokens': 55, 'prompt_tokens': 84, 'total_tokens': 139, 'completion_time': 0.046389231, 'prompt_time': 0.015012457, 'queue_time': 0.207418889, 'total_time': 0.061401688}, 'model_name': 'llama3-8b-8192', 'system_fingerprint': 'fp_24ec19897b', 'finish_reason': 'stop', 'logprobs': None}, id='run--098ff67c-c84a-4f9f-957e-850d01e72e74-0', usage_metadata={'input_tokens': 84, 'output_tokens': 55, 'total_tokens': 139})]}\n"
     ]
    }
   ],
   "source": [
    "for chunk in graph_builder.stream({\"messages\": \"I also like basketball\"}, config, stream_mode=\"values\"):\n",
    "    print(chunk)"
   ]
  },
  {
   "cell_type": "markdown",
   "id": "8f33e20b",
   "metadata": {},
   "source": [
    "ASTREAM"
   ]
  },
  {
   "cell_type": "code",
   "execution_count": 63,
   "id": "27e6cd75",
   "metadata": {},
   "outputs": [
    {
     "name": "stdout",
     "output_type": "stream",
     "text": [
      "{'event': 'on_chain_start', 'data': {'input': {'messages': 'Hi, My name is Jeevan and I like cricket'}}, 'name': 'LangGraph', 'tags': [], 'run_id': 'b16112d2-a5d5-4ba5-91a8-682058497b3f', 'metadata': {'thread_id': '5'}, 'parent_ids': []}\n",
      "{'event': 'on_chain_start', 'data': {'input': {'messages': [HumanMessage(content='Hi, My name is Jeevan and I like cricket', additional_kwargs={}, response_metadata={}, id='0ee7fc27-1d38-4542-a271-c1c82f9442cd')]}}, 'name': 'Superbot', 'tags': ['graph:step:1'], 'run_id': '019ec323-ef8b-4265-aa14-922d8cd42006', 'metadata': {'thread_id': '5', 'langgraph_step': 1, 'langgraph_node': 'Superbot', 'langgraph_triggers': ('branch:to:Superbot',), 'langgraph_path': ('__pregel_pull', 'Superbot'), 'langgraph_checkpoint_ns': 'Superbot:d1eb4742-4598-a583-17c5-27c9a9176309'}, 'parent_ids': ['b16112d2-a5d5-4ba5-91a8-682058497b3f']}\n",
      "{'event': 'on_chat_model_start', 'data': {'input': {'messages': [[HumanMessage(content='Hi, My name is Jeevan and I like cricket', additional_kwargs={}, response_metadata={}, id='0ee7fc27-1d38-4542-a271-c1c82f9442cd')]]}}, 'name': 'ChatGroq', 'tags': ['seq:step:1'], 'run_id': 'dabc1ac5-4272-4851-b717-583abc9a40a8', 'metadata': {'thread_id': '5', 'langgraph_step': 1, 'langgraph_node': 'Superbot', 'langgraph_triggers': ('branch:to:Superbot',), 'langgraph_path': ('__pregel_pull', 'Superbot'), 'langgraph_checkpoint_ns': 'Superbot:d1eb4742-4598-a583-17c5-27c9a9176309', 'checkpoint_ns': 'Superbot:d1eb4742-4598-a583-17c5-27c9a9176309', 'ls_provider': 'groq', 'ls_model_name': 'llama3-8b-8192', 'ls_model_type': 'chat', 'ls_temperature': 0.7}, 'parent_ids': ['b16112d2-a5d5-4ba5-91a8-682058497b3f', '019ec323-ef8b-4265-aa14-922d8cd42006']}\n",
      "{'event': 'on_chat_model_stream', 'data': {'chunk': AIMessageChunk(content='', additional_kwargs={}, response_metadata={}, id='run--dabc1ac5-4272-4851-b717-583abc9a40a8')}, 'run_id': 'dabc1ac5-4272-4851-b717-583abc9a40a8', 'name': 'ChatGroq', 'tags': ['seq:step:1'], 'metadata': {'thread_id': '5', 'langgraph_step': 1, 'langgraph_node': 'Superbot', 'langgraph_triggers': ('branch:to:Superbot',), 'langgraph_path': ('__pregel_pull', 'Superbot'), 'langgraph_checkpoint_ns': 'Superbot:d1eb4742-4598-a583-17c5-27c9a9176309', 'checkpoint_ns': 'Superbot:d1eb4742-4598-a583-17c5-27c9a9176309', 'ls_provider': 'groq', 'ls_model_name': 'llama3-8b-8192', 'ls_model_type': 'chat', 'ls_temperature': 0.7}, 'parent_ids': ['b16112d2-a5d5-4ba5-91a8-682058497b3f', '019ec323-ef8b-4265-aa14-922d8cd42006']}\n",
      "{'event': 'on_chat_model_stream', 'data': {'chunk': AIMessageChunk(content='Nice', additional_kwargs={}, response_metadata={}, id='run--dabc1ac5-4272-4851-b717-583abc9a40a8')}, 'run_id': 'dabc1ac5-4272-4851-b717-583abc9a40a8', 'name': 'ChatGroq', 'tags': ['seq:step:1'], 'metadata': {'thread_id': '5', 'langgraph_step': 1, 'langgraph_node': 'Superbot', 'langgraph_triggers': ('branch:to:Superbot',), 'langgraph_path': ('__pregel_pull', 'Superbot'), 'langgraph_checkpoint_ns': 'Superbot:d1eb4742-4598-a583-17c5-27c9a9176309', 'checkpoint_ns': 'Superbot:d1eb4742-4598-a583-17c5-27c9a9176309', 'ls_provider': 'groq', 'ls_model_name': 'llama3-8b-8192', 'ls_model_type': 'chat', 'ls_temperature': 0.7}, 'parent_ids': ['b16112d2-a5d5-4ba5-91a8-682058497b3f', '019ec323-ef8b-4265-aa14-922d8cd42006']}\n",
      "{'event': 'on_chat_model_stream', 'data': {'chunk': AIMessageChunk(content=' to', additional_kwargs={}, response_metadata={}, id='run--dabc1ac5-4272-4851-b717-583abc9a40a8')}, 'run_id': 'dabc1ac5-4272-4851-b717-583abc9a40a8', 'name': 'ChatGroq', 'tags': ['seq:step:1'], 'metadata': {'thread_id': '5', 'langgraph_step': 1, 'langgraph_node': 'Superbot', 'langgraph_triggers': ('branch:to:Superbot',), 'langgraph_path': ('__pregel_pull', 'Superbot'), 'langgraph_checkpoint_ns': 'Superbot:d1eb4742-4598-a583-17c5-27c9a9176309', 'checkpoint_ns': 'Superbot:d1eb4742-4598-a583-17c5-27c9a9176309', 'ls_provider': 'groq', 'ls_model_name': 'llama3-8b-8192', 'ls_model_type': 'chat', 'ls_temperature': 0.7}, 'parent_ids': ['b16112d2-a5d5-4ba5-91a8-682058497b3f', '019ec323-ef8b-4265-aa14-922d8cd42006']}\n",
      "{'event': 'on_chat_model_stream', 'data': {'chunk': AIMessageChunk(content=' meet', additional_kwargs={}, response_metadata={}, id='run--dabc1ac5-4272-4851-b717-583abc9a40a8')}, 'run_id': 'dabc1ac5-4272-4851-b717-583abc9a40a8', 'name': 'ChatGroq', 'tags': ['seq:step:1'], 'metadata': {'thread_id': '5', 'langgraph_step': 1, 'langgraph_node': 'Superbot', 'langgraph_triggers': ('branch:to:Superbot',), 'langgraph_path': ('__pregel_pull', 'Superbot'), 'langgraph_checkpoint_ns': 'Superbot:d1eb4742-4598-a583-17c5-27c9a9176309', 'checkpoint_ns': 'Superbot:d1eb4742-4598-a583-17c5-27c9a9176309', 'ls_provider': 'groq', 'ls_model_name': 'llama3-8b-8192', 'ls_model_type': 'chat', 'ls_temperature': 0.7}, 'parent_ids': ['b16112d2-a5d5-4ba5-91a8-682058497b3f', '019ec323-ef8b-4265-aa14-922d8cd42006']}\n",
      "{'event': 'on_chat_model_stream', 'data': {'chunk': AIMessageChunk(content=' you', additional_kwargs={}, response_metadata={}, id='run--dabc1ac5-4272-4851-b717-583abc9a40a8')}, 'run_id': 'dabc1ac5-4272-4851-b717-583abc9a40a8', 'name': 'ChatGroq', 'tags': ['seq:step:1'], 'metadata': {'thread_id': '5', 'langgraph_step': 1, 'langgraph_node': 'Superbot', 'langgraph_triggers': ('branch:to:Superbot',), 'langgraph_path': ('__pregel_pull', 'Superbot'), 'langgraph_checkpoint_ns': 'Superbot:d1eb4742-4598-a583-17c5-27c9a9176309', 'checkpoint_ns': 'Superbot:d1eb4742-4598-a583-17c5-27c9a9176309', 'ls_provider': 'groq', 'ls_model_name': 'llama3-8b-8192', 'ls_model_type': 'chat', 'ls_temperature': 0.7}, 'parent_ids': ['b16112d2-a5d5-4ba5-91a8-682058497b3f', '019ec323-ef8b-4265-aa14-922d8cd42006']}\n",
      "{'event': 'on_chat_model_stream', 'data': {'chunk': AIMessageChunk(content=',', additional_kwargs={}, response_metadata={}, id='run--dabc1ac5-4272-4851-b717-583abc9a40a8')}, 'run_id': 'dabc1ac5-4272-4851-b717-583abc9a40a8', 'name': 'ChatGroq', 'tags': ['seq:step:1'], 'metadata': {'thread_id': '5', 'langgraph_step': 1, 'langgraph_node': 'Superbot', 'langgraph_triggers': ('branch:to:Superbot',), 'langgraph_path': ('__pregel_pull', 'Superbot'), 'langgraph_checkpoint_ns': 'Superbot:d1eb4742-4598-a583-17c5-27c9a9176309', 'checkpoint_ns': 'Superbot:d1eb4742-4598-a583-17c5-27c9a9176309', 'ls_provider': 'groq', 'ls_model_name': 'llama3-8b-8192', 'ls_model_type': 'chat', 'ls_temperature': 0.7}, 'parent_ids': ['b16112d2-a5d5-4ba5-91a8-682058497b3f', '019ec323-ef8b-4265-aa14-922d8cd42006']}\n",
      "{'event': 'on_chat_model_stream', 'data': {'chunk': AIMessageChunk(content=' J', additional_kwargs={}, response_metadata={}, id='run--dabc1ac5-4272-4851-b717-583abc9a40a8')}, 'run_id': 'dabc1ac5-4272-4851-b717-583abc9a40a8', 'name': 'ChatGroq', 'tags': ['seq:step:1'], 'metadata': {'thread_id': '5', 'langgraph_step': 1, 'langgraph_node': 'Superbot', 'langgraph_triggers': ('branch:to:Superbot',), 'langgraph_path': ('__pregel_pull', 'Superbot'), 'langgraph_checkpoint_ns': 'Superbot:d1eb4742-4598-a583-17c5-27c9a9176309', 'checkpoint_ns': 'Superbot:d1eb4742-4598-a583-17c5-27c9a9176309', 'ls_provider': 'groq', 'ls_model_name': 'llama3-8b-8192', 'ls_model_type': 'chat', 'ls_temperature': 0.7}, 'parent_ids': ['b16112d2-a5d5-4ba5-91a8-682058497b3f', '019ec323-ef8b-4265-aa14-922d8cd42006']}\n",
      "{'event': 'on_chat_model_stream', 'data': {'chunk': AIMessageChunk(content='ee', additional_kwargs={}, response_metadata={}, id='run--dabc1ac5-4272-4851-b717-583abc9a40a8')}, 'run_id': 'dabc1ac5-4272-4851-b717-583abc9a40a8', 'name': 'ChatGroq', 'tags': ['seq:step:1'], 'metadata': {'thread_id': '5', 'langgraph_step': 1, 'langgraph_node': 'Superbot', 'langgraph_triggers': ('branch:to:Superbot',), 'langgraph_path': ('__pregel_pull', 'Superbot'), 'langgraph_checkpoint_ns': 'Superbot:d1eb4742-4598-a583-17c5-27c9a9176309', 'checkpoint_ns': 'Superbot:d1eb4742-4598-a583-17c5-27c9a9176309', 'ls_provider': 'groq', 'ls_model_name': 'llama3-8b-8192', 'ls_model_type': 'chat', 'ls_temperature': 0.7}, 'parent_ids': ['b16112d2-a5d5-4ba5-91a8-682058497b3f', '019ec323-ef8b-4265-aa14-922d8cd42006']}\n",
      "{'event': 'on_chat_model_stream', 'data': {'chunk': AIMessageChunk(content='van', additional_kwargs={}, response_metadata={}, id='run--dabc1ac5-4272-4851-b717-583abc9a40a8')}, 'run_id': 'dabc1ac5-4272-4851-b717-583abc9a40a8', 'name': 'ChatGroq', 'tags': ['seq:step:1'], 'metadata': {'thread_id': '5', 'langgraph_step': 1, 'langgraph_node': 'Superbot', 'langgraph_triggers': ('branch:to:Superbot',), 'langgraph_path': ('__pregel_pull', 'Superbot'), 'langgraph_checkpoint_ns': 'Superbot:d1eb4742-4598-a583-17c5-27c9a9176309', 'checkpoint_ns': 'Superbot:d1eb4742-4598-a583-17c5-27c9a9176309', 'ls_provider': 'groq', 'ls_model_name': 'llama3-8b-8192', 'ls_model_type': 'chat', 'ls_temperature': 0.7}, 'parent_ids': ['b16112d2-a5d5-4ba5-91a8-682058497b3f', '019ec323-ef8b-4265-aa14-922d8cd42006']}\n",
      "{'event': 'on_chat_model_stream', 'data': {'chunk': AIMessageChunk(content='!', additional_kwargs={}, response_metadata={}, id='run--dabc1ac5-4272-4851-b717-583abc9a40a8')}, 'run_id': 'dabc1ac5-4272-4851-b717-583abc9a40a8', 'name': 'ChatGroq', 'tags': ['seq:step:1'], 'metadata': {'thread_id': '5', 'langgraph_step': 1, 'langgraph_node': 'Superbot', 'langgraph_triggers': ('branch:to:Superbot',), 'langgraph_path': ('__pregel_pull', 'Superbot'), 'langgraph_checkpoint_ns': 'Superbot:d1eb4742-4598-a583-17c5-27c9a9176309', 'checkpoint_ns': 'Superbot:d1eb4742-4598-a583-17c5-27c9a9176309', 'ls_provider': 'groq', 'ls_model_name': 'llama3-8b-8192', 'ls_model_type': 'chat', 'ls_temperature': 0.7}, 'parent_ids': ['b16112d2-a5d5-4ba5-91a8-682058497b3f', '019ec323-ef8b-4265-aa14-922d8cd42006']}\n",
      "{'event': 'on_chat_model_stream', 'data': {'chunk': AIMessageChunk(content=' Cricket', additional_kwargs={}, response_metadata={}, id='run--dabc1ac5-4272-4851-b717-583abc9a40a8')}, 'run_id': 'dabc1ac5-4272-4851-b717-583abc9a40a8', 'name': 'ChatGroq', 'tags': ['seq:step:1'], 'metadata': {'thread_id': '5', 'langgraph_step': 1, 'langgraph_node': 'Superbot', 'langgraph_triggers': ('branch:to:Superbot',), 'langgraph_path': ('__pregel_pull', 'Superbot'), 'langgraph_checkpoint_ns': 'Superbot:d1eb4742-4598-a583-17c5-27c9a9176309', 'checkpoint_ns': 'Superbot:d1eb4742-4598-a583-17c5-27c9a9176309', 'ls_provider': 'groq', 'ls_model_name': 'llama3-8b-8192', 'ls_model_type': 'chat', 'ls_temperature': 0.7}, 'parent_ids': ['b16112d2-a5d5-4ba5-91a8-682058497b3f', '019ec323-ef8b-4265-aa14-922d8cd42006']}\n",
      "{'event': 'on_chat_model_stream', 'data': {'chunk': AIMessageChunk(content=' is', additional_kwargs={}, response_metadata={}, id='run--dabc1ac5-4272-4851-b717-583abc9a40a8')}, 'run_id': 'dabc1ac5-4272-4851-b717-583abc9a40a8', 'name': 'ChatGroq', 'tags': ['seq:step:1'], 'metadata': {'thread_id': '5', 'langgraph_step': 1, 'langgraph_node': 'Superbot', 'langgraph_triggers': ('branch:to:Superbot',), 'langgraph_path': ('__pregel_pull', 'Superbot'), 'langgraph_checkpoint_ns': 'Superbot:d1eb4742-4598-a583-17c5-27c9a9176309', 'checkpoint_ns': 'Superbot:d1eb4742-4598-a583-17c5-27c9a9176309', 'ls_provider': 'groq', 'ls_model_name': 'llama3-8b-8192', 'ls_model_type': 'chat', 'ls_temperature': 0.7}, 'parent_ids': ['b16112d2-a5d5-4ba5-91a8-682058497b3f', '019ec323-ef8b-4265-aa14-922d8cd42006']}\n",
      "{'event': 'on_chat_model_stream', 'data': {'chunk': AIMessageChunk(content=' a', additional_kwargs={}, response_metadata={}, id='run--dabc1ac5-4272-4851-b717-583abc9a40a8')}, 'run_id': 'dabc1ac5-4272-4851-b717-583abc9a40a8', 'name': 'ChatGroq', 'tags': ['seq:step:1'], 'metadata': {'thread_id': '5', 'langgraph_step': 1, 'langgraph_node': 'Superbot', 'langgraph_triggers': ('branch:to:Superbot',), 'langgraph_path': ('__pregel_pull', 'Superbot'), 'langgraph_checkpoint_ns': 'Superbot:d1eb4742-4598-a583-17c5-27c9a9176309', 'checkpoint_ns': 'Superbot:d1eb4742-4598-a583-17c5-27c9a9176309', 'ls_provider': 'groq', 'ls_model_name': 'llama3-8b-8192', 'ls_model_type': 'chat', 'ls_temperature': 0.7}, 'parent_ids': ['b16112d2-a5d5-4ba5-91a8-682058497b3f', '019ec323-ef8b-4265-aa14-922d8cd42006']}\n",
      "{'event': 'on_chat_model_stream', 'data': {'chunk': AIMessageChunk(content=' fantastic', additional_kwargs={}, response_metadata={}, id='run--dabc1ac5-4272-4851-b717-583abc9a40a8')}, 'run_id': 'dabc1ac5-4272-4851-b717-583abc9a40a8', 'name': 'ChatGroq', 'tags': ['seq:step:1'], 'metadata': {'thread_id': '5', 'langgraph_step': 1, 'langgraph_node': 'Superbot', 'langgraph_triggers': ('branch:to:Superbot',), 'langgraph_path': ('__pregel_pull', 'Superbot'), 'langgraph_checkpoint_ns': 'Superbot:d1eb4742-4598-a583-17c5-27c9a9176309', 'checkpoint_ns': 'Superbot:d1eb4742-4598-a583-17c5-27c9a9176309', 'ls_provider': 'groq', 'ls_model_name': 'llama3-8b-8192', 'ls_model_type': 'chat', 'ls_temperature': 0.7}, 'parent_ids': ['b16112d2-a5d5-4ba5-91a8-682058497b3f', '019ec323-ef8b-4265-aa14-922d8cd42006']}\n",
      "{'event': 'on_chat_model_stream', 'data': {'chunk': AIMessageChunk(content=' sport', additional_kwargs={}, response_metadata={}, id='run--dabc1ac5-4272-4851-b717-583abc9a40a8')}, 'run_id': 'dabc1ac5-4272-4851-b717-583abc9a40a8', 'name': 'ChatGroq', 'tags': ['seq:step:1'], 'metadata': {'thread_id': '5', 'langgraph_step': 1, 'langgraph_node': 'Superbot', 'langgraph_triggers': ('branch:to:Superbot',), 'langgraph_path': ('__pregel_pull', 'Superbot'), 'langgraph_checkpoint_ns': 'Superbot:d1eb4742-4598-a583-17c5-27c9a9176309', 'checkpoint_ns': 'Superbot:d1eb4742-4598-a583-17c5-27c9a9176309', 'ls_provider': 'groq', 'ls_model_name': 'llama3-8b-8192', 'ls_model_type': 'chat', 'ls_temperature': 0.7}, 'parent_ids': ['b16112d2-a5d5-4ba5-91a8-682058497b3f', '019ec323-ef8b-4265-aa14-922d8cd42006']}\n",
      "{'event': 'on_chat_model_stream', 'data': {'chunk': AIMessageChunk(content=',', additional_kwargs={}, response_metadata={}, id='run--dabc1ac5-4272-4851-b717-583abc9a40a8')}, 'run_id': 'dabc1ac5-4272-4851-b717-583abc9a40a8', 'name': 'ChatGroq', 'tags': ['seq:step:1'], 'metadata': {'thread_id': '5', 'langgraph_step': 1, 'langgraph_node': 'Superbot', 'langgraph_triggers': ('branch:to:Superbot',), 'langgraph_path': ('__pregel_pull', 'Superbot'), 'langgraph_checkpoint_ns': 'Superbot:d1eb4742-4598-a583-17c5-27c9a9176309', 'checkpoint_ns': 'Superbot:d1eb4742-4598-a583-17c5-27c9a9176309', 'ls_provider': 'groq', 'ls_model_name': 'llama3-8b-8192', 'ls_model_type': 'chat', 'ls_temperature': 0.7}, 'parent_ids': ['b16112d2-a5d5-4ba5-91a8-682058497b3f', '019ec323-ef8b-4265-aa14-922d8cd42006']}\n",
      "{'event': 'on_chat_model_stream', 'data': {'chunk': AIMessageChunk(content=' isn', additional_kwargs={}, response_metadata={}, id='run--dabc1ac5-4272-4851-b717-583abc9a40a8')}, 'run_id': 'dabc1ac5-4272-4851-b717-583abc9a40a8', 'name': 'ChatGroq', 'tags': ['seq:step:1'], 'metadata': {'thread_id': '5', 'langgraph_step': 1, 'langgraph_node': 'Superbot', 'langgraph_triggers': ('branch:to:Superbot',), 'langgraph_path': ('__pregel_pull', 'Superbot'), 'langgraph_checkpoint_ns': 'Superbot:d1eb4742-4598-a583-17c5-27c9a9176309', 'checkpoint_ns': 'Superbot:d1eb4742-4598-a583-17c5-27c9a9176309', 'ls_provider': 'groq', 'ls_model_name': 'llama3-8b-8192', 'ls_model_type': 'chat', 'ls_temperature': 0.7}, 'parent_ids': ['b16112d2-a5d5-4ba5-91a8-682058497b3f', '019ec323-ef8b-4265-aa14-922d8cd42006']}\n",
      "{'event': 'on_chat_model_stream', 'data': {'chunk': AIMessageChunk(content=\"'t\", additional_kwargs={}, response_metadata={}, id='run--dabc1ac5-4272-4851-b717-583abc9a40a8')}, 'run_id': 'dabc1ac5-4272-4851-b717-583abc9a40a8', 'name': 'ChatGroq', 'tags': ['seq:step:1'], 'metadata': {'thread_id': '5', 'langgraph_step': 1, 'langgraph_node': 'Superbot', 'langgraph_triggers': ('branch:to:Superbot',), 'langgraph_path': ('__pregel_pull', 'Superbot'), 'langgraph_checkpoint_ns': 'Superbot:d1eb4742-4598-a583-17c5-27c9a9176309', 'checkpoint_ns': 'Superbot:d1eb4742-4598-a583-17c5-27c9a9176309', 'ls_provider': 'groq', 'ls_model_name': 'llama3-8b-8192', 'ls_model_type': 'chat', 'ls_temperature': 0.7}, 'parent_ids': ['b16112d2-a5d5-4ba5-91a8-682058497b3f', '019ec323-ef8b-4265-aa14-922d8cd42006']}\n",
      "{'event': 'on_chat_model_stream', 'data': {'chunk': AIMessageChunk(content=' it', additional_kwargs={}, response_metadata={}, id='run--dabc1ac5-4272-4851-b717-583abc9a40a8')}, 'run_id': 'dabc1ac5-4272-4851-b717-583abc9a40a8', 'name': 'ChatGroq', 'tags': ['seq:step:1'], 'metadata': {'thread_id': '5', 'langgraph_step': 1, 'langgraph_node': 'Superbot', 'langgraph_triggers': ('branch:to:Superbot',), 'langgraph_path': ('__pregel_pull', 'Superbot'), 'langgraph_checkpoint_ns': 'Superbot:d1eb4742-4598-a583-17c5-27c9a9176309', 'checkpoint_ns': 'Superbot:d1eb4742-4598-a583-17c5-27c9a9176309', 'ls_provider': 'groq', 'ls_model_name': 'llama3-8b-8192', 'ls_model_type': 'chat', 'ls_temperature': 0.7}, 'parent_ids': ['b16112d2-a5d5-4ba5-91a8-682058497b3f', '019ec323-ef8b-4265-aa14-922d8cd42006']}\n",
      "{'event': 'on_chat_model_stream', 'data': {'chunk': AIMessageChunk(content='?', additional_kwargs={}, response_metadata={}, id='run--dabc1ac5-4272-4851-b717-583abc9a40a8')}, 'run_id': 'dabc1ac5-4272-4851-b717-583abc9a40a8', 'name': 'ChatGroq', 'tags': ['seq:step:1'], 'metadata': {'thread_id': '5', 'langgraph_step': 1, 'langgraph_node': 'Superbot', 'langgraph_triggers': ('branch:to:Superbot',), 'langgraph_path': ('__pregel_pull', 'Superbot'), 'langgraph_checkpoint_ns': 'Superbot:d1eb4742-4598-a583-17c5-27c9a9176309', 'checkpoint_ns': 'Superbot:d1eb4742-4598-a583-17c5-27c9a9176309', 'ls_provider': 'groq', 'ls_model_name': 'llama3-8b-8192', 'ls_model_type': 'chat', 'ls_temperature': 0.7}, 'parent_ids': ['b16112d2-a5d5-4ba5-91a8-682058497b3f', '019ec323-ef8b-4265-aa14-922d8cd42006']}\n",
      "{'event': 'on_chat_model_stream', 'data': {'chunk': AIMessageChunk(content=' Do', additional_kwargs={}, response_metadata={}, id='run--dabc1ac5-4272-4851-b717-583abc9a40a8')}, 'run_id': 'dabc1ac5-4272-4851-b717-583abc9a40a8', 'name': 'ChatGroq', 'tags': ['seq:step:1'], 'metadata': {'thread_id': '5', 'langgraph_step': 1, 'langgraph_node': 'Superbot', 'langgraph_triggers': ('branch:to:Superbot',), 'langgraph_path': ('__pregel_pull', 'Superbot'), 'langgraph_checkpoint_ns': 'Superbot:d1eb4742-4598-a583-17c5-27c9a9176309', 'checkpoint_ns': 'Superbot:d1eb4742-4598-a583-17c5-27c9a9176309', 'ls_provider': 'groq', 'ls_model_name': 'llama3-8b-8192', 'ls_model_type': 'chat', 'ls_temperature': 0.7}, 'parent_ids': ['b16112d2-a5d5-4ba5-91a8-682058497b3f', '019ec323-ef8b-4265-aa14-922d8cd42006']}\n",
      "{'event': 'on_chat_model_stream', 'data': {'chunk': AIMessageChunk(content=' you', additional_kwargs={}, response_metadata={}, id='run--dabc1ac5-4272-4851-b717-583abc9a40a8')}, 'run_id': 'dabc1ac5-4272-4851-b717-583abc9a40a8', 'name': 'ChatGroq', 'tags': ['seq:step:1'], 'metadata': {'thread_id': '5', 'langgraph_step': 1, 'langgraph_node': 'Superbot', 'langgraph_triggers': ('branch:to:Superbot',), 'langgraph_path': ('__pregel_pull', 'Superbot'), 'langgraph_checkpoint_ns': 'Superbot:d1eb4742-4598-a583-17c5-27c9a9176309', 'checkpoint_ns': 'Superbot:d1eb4742-4598-a583-17c5-27c9a9176309', 'ls_provider': 'groq', 'ls_model_name': 'llama3-8b-8192', 'ls_model_type': 'chat', 'ls_temperature': 0.7}, 'parent_ids': ['b16112d2-a5d5-4ba5-91a8-682058497b3f', '019ec323-ef8b-4265-aa14-922d8cd42006']}\n",
      "{'event': 'on_chat_model_stream', 'data': {'chunk': AIMessageChunk(content=' have', additional_kwargs={}, response_metadata={}, id='run--dabc1ac5-4272-4851-b717-583abc9a40a8')}, 'run_id': 'dabc1ac5-4272-4851-b717-583abc9a40a8', 'name': 'ChatGroq', 'tags': ['seq:step:1'], 'metadata': {'thread_id': '5', 'langgraph_step': 1, 'langgraph_node': 'Superbot', 'langgraph_triggers': ('branch:to:Superbot',), 'langgraph_path': ('__pregel_pull', 'Superbot'), 'langgraph_checkpoint_ns': 'Superbot:d1eb4742-4598-a583-17c5-27c9a9176309', 'checkpoint_ns': 'Superbot:d1eb4742-4598-a583-17c5-27c9a9176309', 'ls_provider': 'groq', 'ls_model_name': 'llama3-8b-8192', 'ls_model_type': 'chat', 'ls_temperature': 0.7}, 'parent_ids': ['b16112d2-a5d5-4ba5-91a8-682058497b3f', '019ec323-ef8b-4265-aa14-922d8cd42006']}\n",
      "{'event': 'on_chat_model_stream', 'data': {'chunk': AIMessageChunk(content=' a', additional_kwargs={}, response_metadata={}, id='run--dabc1ac5-4272-4851-b717-583abc9a40a8')}, 'run_id': 'dabc1ac5-4272-4851-b717-583abc9a40a8', 'name': 'ChatGroq', 'tags': ['seq:step:1'], 'metadata': {'thread_id': '5', 'langgraph_step': 1, 'langgraph_node': 'Superbot', 'langgraph_triggers': ('branch:to:Superbot',), 'langgraph_path': ('__pregel_pull', 'Superbot'), 'langgraph_checkpoint_ns': 'Superbot:d1eb4742-4598-a583-17c5-27c9a9176309', 'checkpoint_ns': 'Superbot:d1eb4742-4598-a583-17c5-27c9a9176309', 'ls_provider': 'groq', 'ls_model_name': 'llama3-8b-8192', 'ls_model_type': 'chat', 'ls_temperature': 0.7}, 'parent_ids': ['b16112d2-a5d5-4ba5-91a8-682058497b3f', '019ec323-ef8b-4265-aa14-922d8cd42006']}\n",
      "{'event': 'on_chat_model_stream', 'data': {'chunk': AIMessageChunk(content=' favorite', additional_kwargs={}, response_metadata={}, id='run--dabc1ac5-4272-4851-b717-583abc9a40a8')}, 'run_id': 'dabc1ac5-4272-4851-b717-583abc9a40a8', 'name': 'ChatGroq', 'tags': ['seq:step:1'], 'metadata': {'thread_id': '5', 'langgraph_step': 1, 'langgraph_node': 'Superbot', 'langgraph_triggers': ('branch:to:Superbot',), 'langgraph_path': ('__pregel_pull', 'Superbot'), 'langgraph_checkpoint_ns': 'Superbot:d1eb4742-4598-a583-17c5-27c9a9176309', 'checkpoint_ns': 'Superbot:d1eb4742-4598-a583-17c5-27c9a9176309', 'ls_provider': 'groq', 'ls_model_name': 'llama3-8b-8192', 'ls_model_type': 'chat', 'ls_temperature': 0.7}, 'parent_ids': ['b16112d2-a5d5-4ba5-91a8-682058497b3f', '019ec323-ef8b-4265-aa14-922d8cd42006']}\n",
      "{'event': 'on_chat_model_stream', 'data': {'chunk': AIMessageChunk(content=' team', additional_kwargs={}, response_metadata={}, id='run--dabc1ac5-4272-4851-b717-583abc9a40a8')}, 'run_id': 'dabc1ac5-4272-4851-b717-583abc9a40a8', 'name': 'ChatGroq', 'tags': ['seq:step:1'], 'metadata': {'thread_id': '5', 'langgraph_step': 1, 'langgraph_node': 'Superbot', 'langgraph_triggers': ('branch:to:Superbot',), 'langgraph_path': ('__pregel_pull', 'Superbot'), 'langgraph_checkpoint_ns': 'Superbot:d1eb4742-4598-a583-17c5-27c9a9176309', 'checkpoint_ns': 'Superbot:d1eb4742-4598-a583-17c5-27c9a9176309', 'ls_provider': 'groq', 'ls_model_name': 'llama3-8b-8192', 'ls_model_type': 'chat', 'ls_temperature': 0.7}, 'parent_ids': ['b16112d2-a5d5-4ba5-91a8-682058497b3f', '019ec323-ef8b-4265-aa14-922d8cd42006']}\n",
      "{'event': 'on_chat_model_stream', 'data': {'chunk': AIMessageChunk(content=' or', additional_kwargs={}, response_metadata={}, id='run--dabc1ac5-4272-4851-b717-583abc9a40a8')}, 'run_id': 'dabc1ac5-4272-4851-b717-583abc9a40a8', 'name': 'ChatGroq', 'tags': ['seq:step:1'], 'metadata': {'thread_id': '5', 'langgraph_step': 1, 'langgraph_node': 'Superbot', 'langgraph_triggers': ('branch:to:Superbot',), 'langgraph_path': ('__pregel_pull', 'Superbot'), 'langgraph_checkpoint_ns': 'Superbot:d1eb4742-4598-a583-17c5-27c9a9176309', 'checkpoint_ns': 'Superbot:d1eb4742-4598-a583-17c5-27c9a9176309', 'ls_provider': 'groq', 'ls_model_name': 'llama3-8b-8192', 'ls_model_type': 'chat', 'ls_temperature': 0.7}, 'parent_ids': ['b16112d2-a5d5-4ba5-91a8-682058497b3f', '019ec323-ef8b-4265-aa14-922d8cd42006']}\n",
      "{'event': 'on_chat_model_stream', 'data': {'chunk': AIMessageChunk(content=' player', additional_kwargs={}, response_metadata={}, id='run--dabc1ac5-4272-4851-b717-583abc9a40a8')}, 'run_id': 'dabc1ac5-4272-4851-b717-583abc9a40a8', 'name': 'ChatGroq', 'tags': ['seq:step:1'], 'metadata': {'thread_id': '5', 'langgraph_step': 1, 'langgraph_node': 'Superbot', 'langgraph_triggers': ('branch:to:Superbot',), 'langgraph_path': ('__pregel_pull', 'Superbot'), 'langgraph_checkpoint_ns': 'Superbot:d1eb4742-4598-a583-17c5-27c9a9176309', 'checkpoint_ns': 'Superbot:d1eb4742-4598-a583-17c5-27c9a9176309', 'ls_provider': 'groq', 'ls_model_name': 'llama3-8b-8192', 'ls_model_type': 'chat', 'ls_temperature': 0.7}, 'parent_ids': ['b16112d2-a5d5-4ba5-91a8-682058497b3f', '019ec323-ef8b-4265-aa14-922d8cd42006']}\n",
      "{'event': 'on_chat_model_stream', 'data': {'chunk': AIMessageChunk(content='?', additional_kwargs={}, response_metadata={}, id='run--dabc1ac5-4272-4851-b717-583abc9a40a8')}, 'run_id': 'dabc1ac5-4272-4851-b717-583abc9a40a8', 'name': 'ChatGroq', 'tags': ['seq:step:1'], 'metadata': {'thread_id': '5', 'langgraph_step': 1, 'langgraph_node': 'Superbot', 'langgraph_triggers': ('branch:to:Superbot',), 'langgraph_path': ('__pregel_pull', 'Superbot'), 'langgraph_checkpoint_ns': 'Superbot:d1eb4742-4598-a583-17c5-27c9a9176309', 'checkpoint_ns': 'Superbot:d1eb4742-4598-a583-17c5-27c9a9176309', 'ls_provider': 'groq', 'ls_model_name': 'llama3-8b-8192', 'ls_model_type': 'chat', 'ls_temperature': 0.7}, 'parent_ids': ['b16112d2-a5d5-4ba5-91a8-682058497b3f', '019ec323-ef8b-4265-aa14-922d8cd42006']}\n",
      "{'event': 'on_chat_model_stream', 'data': {'chunk': AIMessageChunk(content=' Have', additional_kwargs={}, response_metadata={}, id='run--dabc1ac5-4272-4851-b717-583abc9a40a8')}, 'run_id': 'dabc1ac5-4272-4851-b717-583abc9a40a8', 'name': 'ChatGroq', 'tags': ['seq:step:1'], 'metadata': {'thread_id': '5', 'langgraph_step': 1, 'langgraph_node': 'Superbot', 'langgraph_triggers': ('branch:to:Superbot',), 'langgraph_path': ('__pregel_pull', 'Superbot'), 'langgraph_checkpoint_ns': 'Superbot:d1eb4742-4598-a583-17c5-27c9a9176309', 'checkpoint_ns': 'Superbot:d1eb4742-4598-a583-17c5-27c9a9176309', 'ls_provider': 'groq', 'ls_model_name': 'llama3-8b-8192', 'ls_model_type': 'chat', 'ls_temperature': 0.7}, 'parent_ids': ['b16112d2-a5d5-4ba5-91a8-682058497b3f', '019ec323-ef8b-4265-aa14-922d8cd42006']}\n",
      "{'event': 'on_chat_model_stream', 'data': {'chunk': AIMessageChunk(content=' you', additional_kwargs={}, response_metadata={}, id='run--dabc1ac5-4272-4851-b717-583abc9a40a8')}, 'run_id': 'dabc1ac5-4272-4851-b717-583abc9a40a8', 'name': 'ChatGroq', 'tags': ['seq:step:1'], 'metadata': {'thread_id': '5', 'langgraph_step': 1, 'langgraph_node': 'Superbot', 'langgraph_triggers': ('branch:to:Superbot',), 'langgraph_path': ('__pregel_pull', 'Superbot'), 'langgraph_checkpoint_ns': 'Superbot:d1eb4742-4598-a583-17c5-27c9a9176309', 'checkpoint_ns': 'Superbot:d1eb4742-4598-a583-17c5-27c9a9176309', 'ls_provider': 'groq', 'ls_model_name': 'llama3-8b-8192', 'ls_model_type': 'chat', 'ls_temperature': 0.7}, 'parent_ids': ['b16112d2-a5d5-4ba5-91a8-682058497b3f', '019ec323-ef8b-4265-aa14-922d8cd42006']}\n",
      "{'event': 'on_chat_model_stream', 'data': {'chunk': AIMessageChunk(content=' ever', additional_kwargs={}, response_metadata={}, id='run--dabc1ac5-4272-4851-b717-583abc9a40a8')}, 'run_id': 'dabc1ac5-4272-4851-b717-583abc9a40a8', 'name': 'ChatGroq', 'tags': ['seq:step:1'], 'metadata': {'thread_id': '5', 'langgraph_step': 1, 'langgraph_node': 'Superbot', 'langgraph_triggers': ('branch:to:Superbot',), 'langgraph_path': ('__pregel_pull', 'Superbot'), 'langgraph_checkpoint_ns': 'Superbot:d1eb4742-4598-a583-17c5-27c9a9176309', 'checkpoint_ns': 'Superbot:d1eb4742-4598-a583-17c5-27c9a9176309', 'ls_provider': 'groq', 'ls_model_name': 'llama3-8b-8192', 'ls_model_type': 'chat', 'ls_temperature': 0.7}, 'parent_ids': ['b16112d2-a5d5-4ba5-91a8-682058497b3f', '019ec323-ef8b-4265-aa14-922d8cd42006']}\n",
      "{'event': 'on_chat_model_stream', 'data': {'chunk': AIMessageChunk(content=' played', additional_kwargs={}, response_metadata={}, id='run--dabc1ac5-4272-4851-b717-583abc9a40a8')}, 'run_id': 'dabc1ac5-4272-4851-b717-583abc9a40a8', 'name': 'ChatGroq', 'tags': ['seq:step:1'], 'metadata': {'thread_id': '5', 'langgraph_step': 1, 'langgraph_node': 'Superbot', 'langgraph_triggers': ('branch:to:Superbot',), 'langgraph_path': ('__pregel_pull', 'Superbot'), 'langgraph_checkpoint_ns': 'Superbot:d1eb4742-4598-a583-17c5-27c9a9176309', 'checkpoint_ns': 'Superbot:d1eb4742-4598-a583-17c5-27c9a9176309', 'ls_provider': 'groq', 'ls_model_name': 'llama3-8b-8192', 'ls_model_type': 'chat', 'ls_temperature': 0.7}, 'parent_ids': ['b16112d2-a5d5-4ba5-91a8-682058497b3f', '019ec323-ef8b-4265-aa14-922d8cd42006']}\n",
      "{'event': 'on_chat_model_stream', 'data': {'chunk': AIMessageChunk(content=' cricket', additional_kwargs={}, response_metadata={}, id='run--dabc1ac5-4272-4851-b717-583abc9a40a8')}, 'run_id': 'dabc1ac5-4272-4851-b717-583abc9a40a8', 'name': 'ChatGroq', 'tags': ['seq:step:1'], 'metadata': {'thread_id': '5', 'langgraph_step': 1, 'langgraph_node': 'Superbot', 'langgraph_triggers': ('branch:to:Superbot',), 'langgraph_path': ('__pregel_pull', 'Superbot'), 'langgraph_checkpoint_ns': 'Superbot:d1eb4742-4598-a583-17c5-27c9a9176309', 'checkpoint_ns': 'Superbot:d1eb4742-4598-a583-17c5-27c9a9176309', 'ls_provider': 'groq', 'ls_model_name': 'llama3-8b-8192', 'ls_model_type': 'chat', 'ls_temperature': 0.7}, 'parent_ids': ['b16112d2-a5d5-4ba5-91a8-682058497b3f', '019ec323-ef8b-4265-aa14-922d8cd42006']}\n",
      "{'event': 'on_chat_model_stream', 'data': {'chunk': AIMessageChunk(content=' yourself', additional_kwargs={}, response_metadata={}, id='run--dabc1ac5-4272-4851-b717-583abc9a40a8')}, 'run_id': 'dabc1ac5-4272-4851-b717-583abc9a40a8', 'name': 'ChatGroq', 'tags': ['seq:step:1'], 'metadata': {'thread_id': '5', 'langgraph_step': 1, 'langgraph_node': 'Superbot', 'langgraph_triggers': ('branch:to:Superbot',), 'langgraph_path': ('__pregel_pull', 'Superbot'), 'langgraph_checkpoint_ns': 'Superbot:d1eb4742-4598-a583-17c5-27c9a9176309', 'checkpoint_ns': 'Superbot:d1eb4742-4598-a583-17c5-27c9a9176309', 'ls_provider': 'groq', 'ls_model_name': 'llama3-8b-8192', 'ls_model_type': 'chat', 'ls_temperature': 0.7}, 'parent_ids': ['b16112d2-a5d5-4ba5-91a8-682058497b3f', '019ec323-ef8b-4265-aa14-922d8cd42006']}\n",
      "{'event': 'on_chat_model_stream', 'data': {'chunk': AIMessageChunk(content=' or', additional_kwargs={}, response_metadata={}, id='run--dabc1ac5-4272-4851-b717-583abc9a40a8')}, 'run_id': 'dabc1ac5-4272-4851-b717-583abc9a40a8', 'name': 'ChatGroq', 'tags': ['seq:step:1'], 'metadata': {'thread_id': '5', 'langgraph_step': 1, 'langgraph_node': 'Superbot', 'langgraph_triggers': ('branch:to:Superbot',), 'langgraph_path': ('__pregel_pull', 'Superbot'), 'langgraph_checkpoint_ns': 'Superbot:d1eb4742-4598-a583-17c5-27c9a9176309', 'checkpoint_ns': 'Superbot:d1eb4742-4598-a583-17c5-27c9a9176309', 'ls_provider': 'groq', 'ls_model_name': 'llama3-8b-8192', 'ls_model_type': 'chat', 'ls_temperature': 0.7}, 'parent_ids': ['b16112d2-a5d5-4ba5-91a8-682058497b3f', '019ec323-ef8b-4265-aa14-922d8cd42006']}\n",
      "{'event': 'on_chat_model_stream', 'data': {'chunk': AIMessageChunk(content=' are', additional_kwargs={}, response_metadata={}, id='run--dabc1ac5-4272-4851-b717-583abc9a40a8')}, 'run_id': 'dabc1ac5-4272-4851-b717-583abc9a40a8', 'name': 'ChatGroq', 'tags': ['seq:step:1'], 'metadata': {'thread_id': '5', 'langgraph_step': 1, 'langgraph_node': 'Superbot', 'langgraph_triggers': ('branch:to:Superbot',), 'langgraph_path': ('__pregel_pull', 'Superbot'), 'langgraph_checkpoint_ns': 'Superbot:d1eb4742-4598-a583-17c5-27c9a9176309', 'checkpoint_ns': 'Superbot:d1eb4742-4598-a583-17c5-27c9a9176309', 'ls_provider': 'groq', 'ls_model_name': 'llama3-8b-8192', 'ls_model_type': 'chat', 'ls_temperature': 0.7}, 'parent_ids': ['b16112d2-a5d5-4ba5-91a8-682058497b3f', '019ec323-ef8b-4265-aa14-922d8cd42006']}\n",
      "{'event': 'on_chat_model_stream', 'data': {'chunk': AIMessageChunk(content=' you', additional_kwargs={}, response_metadata={}, id='run--dabc1ac5-4272-4851-b717-583abc9a40a8')}, 'run_id': 'dabc1ac5-4272-4851-b717-583abc9a40a8', 'name': 'ChatGroq', 'tags': ['seq:step:1'], 'metadata': {'thread_id': '5', 'langgraph_step': 1, 'langgraph_node': 'Superbot', 'langgraph_triggers': ('branch:to:Superbot',), 'langgraph_path': ('__pregel_pull', 'Superbot'), 'langgraph_checkpoint_ns': 'Superbot:d1eb4742-4598-a583-17c5-27c9a9176309', 'checkpoint_ns': 'Superbot:d1eb4742-4598-a583-17c5-27c9a9176309', 'ls_provider': 'groq', 'ls_model_name': 'llama3-8b-8192', 'ls_model_type': 'chat', 'ls_temperature': 0.7}, 'parent_ids': ['b16112d2-a5d5-4ba5-91a8-682058497b3f', '019ec323-ef8b-4265-aa14-922d8cd42006']}\n",
      "{'event': 'on_chat_model_stream', 'data': {'chunk': AIMessageChunk(content=' more', additional_kwargs={}, response_metadata={}, id='run--dabc1ac5-4272-4851-b717-583abc9a40a8')}, 'run_id': 'dabc1ac5-4272-4851-b717-583abc9a40a8', 'name': 'ChatGroq', 'tags': ['seq:step:1'], 'metadata': {'thread_id': '5', 'langgraph_step': 1, 'langgraph_node': 'Superbot', 'langgraph_triggers': ('branch:to:Superbot',), 'langgraph_path': ('__pregel_pull', 'Superbot'), 'langgraph_checkpoint_ns': 'Superbot:d1eb4742-4598-a583-17c5-27c9a9176309', 'checkpoint_ns': 'Superbot:d1eb4742-4598-a583-17c5-27c9a9176309', 'ls_provider': 'groq', 'ls_model_name': 'llama3-8b-8192', 'ls_model_type': 'chat', 'ls_temperature': 0.7}, 'parent_ids': ['b16112d2-a5d5-4ba5-91a8-682058497b3f', '019ec323-ef8b-4265-aa14-922d8cd42006']}\n",
      "{'event': 'on_chat_model_stream', 'data': {'chunk': AIMessageChunk(content=' of', additional_kwargs={}, response_metadata={}, id='run--dabc1ac5-4272-4851-b717-583abc9a40a8')}, 'run_id': 'dabc1ac5-4272-4851-b717-583abc9a40a8', 'name': 'ChatGroq', 'tags': ['seq:step:1'], 'metadata': {'thread_id': '5', 'langgraph_step': 1, 'langgraph_node': 'Superbot', 'langgraph_triggers': ('branch:to:Superbot',), 'langgraph_path': ('__pregel_pull', 'Superbot'), 'langgraph_checkpoint_ns': 'Superbot:d1eb4742-4598-a583-17c5-27c9a9176309', 'checkpoint_ns': 'Superbot:d1eb4742-4598-a583-17c5-27c9a9176309', 'ls_provider': 'groq', 'ls_model_name': 'llama3-8b-8192', 'ls_model_type': 'chat', 'ls_temperature': 0.7}, 'parent_ids': ['b16112d2-a5d5-4ba5-91a8-682058497b3f', '019ec323-ef8b-4265-aa14-922d8cd42006']}\n",
      "{'event': 'on_chat_model_stream', 'data': {'chunk': AIMessageChunk(content=' a', additional_kwargs={}, response_metadata={}, id='run--dabc1ac5-4272-4851-b717-583abc9a40a8')}, 'run_id': 'dabc1ac5-4272-4851-b717-583abc9a40a8', 'name': 'ChatGroq', 'tags': ['seq:step:1'], 'metadata': {'thread_id': '5', 'langgraph_step': 1, 'langgraph_node': 'Superbot', 'langgraph_triggers': ('branch:to:Superbot',), 'langgraph_path': ('__pregel_pull', 'Superbot'), 'langgraph_checkpoint_ns': 'Superbot:d1eb4742-4598-a583-17c5-27c9a9176309', 'checkpoint_ns': 'Superbot:d1eb4742-4598-a583-17c5-27c9a9176309', 'ls_provider': 'groq', 'ls_model_name': 'llama3-8b-8192', 'ls_model_type': 'chat', 'ls_temperature': 0.7}, 'parent_ids': ['b16112d2-a5d5-4ba5-91a8-682058497b3f', '019ec323-ef8b-4265-aa14-922d8cd42006']}\n",
      "{'event': 'on_chat_model_stream', 'data': {'chunk': AIMessageChunk(content=' fan', additional_kwargs={}, response_metadata={}, id='run--dabc1ac5-4272-4851-b717-583abc9a40a8')}, 'run_id': 'dabc1ac5-4272-4851-b717-583abc9a40a8', 'name': 'ChatGroq', 'tags': ['seq:step:1'], 'metadata': {'thread_id': '5', 'langgraph_step': 1, 'langgraph_node': 'Superbot', 'langgraph_triggers': ('branch:to:Superbot',), 'langgraph_path': ('__pregel_pull', 'Superbot'), 'langgraph_checkpoint_ns': 'Superbot:d1eb4742-4598-a583-17c5-27c9a9176309', 'checkpoint_ns': 'Superbot:d1eb4742-4598-a583-17c5-27c9a9176309', 'ls_provider': 'groq', 'ls_model_name': 'llama3-8b-8192', 'ls_model_type': 'chat', 'ls_temperature': 0.7}, 'parent_ids': ['b16112d2-a5d5-4ba5-91a8-682058497b3f', '019ec323-ef8b-4265-aa14-922d8cd42006']}\n",
      "{'event': 'on_chat_model_stream', 'data': {'chunk': AIMessageChunk(content=' who', additional_kwargs={}, response_metadata={}, id='run--dabc1ac5-4272-4851-b717-583abc9a40a8')}, 'run_id': 'dabc1ac5-4272-4851-b717-583abc9a40a8', 'name': 'ChatGroq', 'tags': ['seq:step:1'], 'metadata': {'thread_id': '5', 'langgraph_step': 1, 'langgraph_node': 'Superbot', 'langgraph_triggers': ('branch:to:Superbot',), 'langgraph_path': ('__pregel_pull', 'Superbot'), 'langgraph_checkpoint_ns': 'Superbot:d1eb4742-4598-a583-17c5-27c9a9176309', 'checkpoint_ns': 'Superbot:d1eb4742-4598-a583-17c5-27c9a9176309', 'ls_provider': 'groq', 'ls_model_name': 'llama3-8b-8192', 'ls_model_type': 'chat', 'ls_temperature': 0.7}, 'parent_ids': ['b16112d2-a5d5-4ba5-91a8-682058497b3f', '019ec323-ef8b-4265-aa14-922d8cd42006']}\n",
      "{'event': 'on_chat_model_stream', 'data': {'chunk': AIMessageChunk(content=' enjoys', additional_kwargs={}, response_metadata={}, id='run--dabc1ac5-4272-4851-b717-583abc9a40a8')}, 'run_id': 'dabc1ac5-4272-4851-b717-583abc9a40a8', 'name': 'ChatGroq', 'tags': ['seq:step:1'], 'metadata': {'thread_id': '5', 'langgraph_step': 1, 'langgraph_node': 'Superbot', 'langgraph_triggers': ('branch:to:Superbot',), 'langgraph_path': ('__pregel_pull', 'Superbot'), 'langgraph_checkpoint_ns': 'Superbot:d1eb4742-4598-a583-17c5-27c9a9176309', 'checkpoint_ns': 'Superbot:d1eb4742-4598-a583-17c5-27c9a9176309', 'ls_provider': 'groq', 'ls_model_name': 'llama3-8b-8192', 'ls_model_type': 'chat', 'ls_temperature': 0.7}, 'parent_ids': ['b16112d2-a5d5-4ba5-91a8-682058497b3f', '019ec323-ef8b-4265-aa14-922d8cd42006']}\n",
      "{'event': 'on_chat_model_stream', 'data': {'chunk': AIMessageChunk(content=' watching', additional_kwargs={}, response_metadata={}, id='run--dabc1ac5-4272-4851-b717-583abc9a40a8')}, 'run_id': 'dabc1ac5-4272-4851-b717-583abc9a40a8', 'name': 'ChatGroq', 'tags': ['seq:step:1'], 'metadata': {'thread_id': '5', 'langgraph_step': 1, 'langgraph_node': 'Superbot', 'langgraph_triggers': ('branch:to:Superbot',), 'langgraph_path': ('__pregel_pull', 'Superbot'), 'langgraph_checkpoint_ns': 'Superbot:d1eb4742-4598-a583-17c5-27c9a9176309', 'checkpoint_ns': 'Superbot:d1eb4742-4598-a583-17c5-27c9a9176309', 'ls_provider': 'groq', 'ls_model_name': 'llama3-8b-8192', 'ls_model_type': 'chat', 'ls_temperature': 0.7}, 'parent_ids': ['b16112d2-a5d5-4ba5-91a8-682058497b3f', '019ec323-ef8b-4265-aa14-922d8cd42006']}\n",
      "{'event': 'on_chat_model_stream', 'data': {'chunk': AIMessageChunk(content=' and', additional_kwargs={}, response_metadata={}, id='run--dabc1ac5-4272-4851-b717-583abc9a40a8')}, 'run_id': 'dabc1ac5-4272-4851-b717-583abc9a40a8', 'name': 'ChatGroq', 'tags': ['seq:step:1'], 'metadata': {'thread_id': '5', 'langgraph_step': 1, 'langgraph_node': 'Superbot', 'langgraph_triggers': ('branch:to:Superbot',), 'langgraph_path': ('__pregel_pull', 'Superbot'), 'langgraph_checkpoint_ns': 'Superbot:d1eb4742-4598-a583-17c5-27c9a9176309', 'checkpoint_ns': 'Superbot:d1eb4742-4598-a583-17c5-27c9a9176309', 'ls_provider': 'groq', 'ls_model_name': 'llama3-8b-8192', 'ls_model_type': 'chat', 'ls_temperature': 0.7}, 'parent_ids': ['b16112d2-a5d5-4ba5-91a8-682058497b3f', '019ec323-ef8b-4265-aa14-922d8cd42006']}\n",
      "{'event': 'on_chat_model_stream', 'data': {'chunk': AIMessageChunk(content=' following', additional_kwargs={}, response_metadata={}, id='run--dabc1ac5-4272-4851-b717-583abc9a40a8')}, 'run_id': 'dabc1ac5-4272-4851-b717-583abc9a40a8', 'name': 'ChatGroq', 'tags': ['seq:step:1'], 'metadata': {'thread_id': '5', 'langgraph_step': 1, 'langgraph_node': 'Superbot', 'langgraph_triggers': ('branch:to:Superbot',), 'langgraph_path': ('__pregel_pull', 'Superbot'), 'langgraph_checkpoint_ns': 'Superbot:d1eb4742-4598-a583-17c5-27c9a9176309', 'checkpoint_ns': 'Superbot:d1eb4742-4598-a583-17c5-27c9a9176309', 'ls_provider': 'groq', 'ls_model_name': 'llama3-8b-8192', 'ls_model_type': 'chat', 'ls_temperature': 0.7}, 'parent_ids': ['b16112d2-a5d5-4ba5-91a8-682058497b3f', '019ec323-ef8b-4265-aa14-922d8cd42006']}\n",
      "{'event': 'on_chat_model_stream', 'data': {'chunk': AIMessageChunk(content=' the', additional_kwargs={}, response_metadata={}, id='run--dabc1ac5-4272-4851-b717-583abc9a40a8')}, 'run_id': 'dabc1ac5-4272-4851-b717-583abc9a40a8', 'name': 'ChatGroq', 'tags': ['seq:step:1'], 'metadata': {'thread_id': '5', 'langgraph_step': 1, 'langgraph_node': 'Superbot', 'langgraph_triggers': ('branch:to:Superbot',), 'langgraph_path': ('__pregel_pull', 'Superbot'), 'langgraph_checkpoint_ns': 'Superbot:d1eb4742-4598-a583-17c5-27c9a9176309', 'checkpoint_ns': 'Superbot:d1eb4742-4598-a583-17c5-27c9a9176309', 'ls_provider': 'groq', 'ls_model_name': 'llama3-8b-8192', 'ls_model_type': 'chat', 'ls_temperature': 0.7}, 'parent_ids': ['b16112d2-a5d5-4ba5-91a8-682058497b3f', '019ec323-ef8b-4265-aa14-922d8cd42006']}\n",
      "{'event': 'on_chat_model_stream', 'data': {'chunk': AIMessageChunk(content=' game', additional_kwargs={}, response_metadata={}, id='run--dabc1ac5-4272-4851-b717-583abc9a40a8')}, 'run_id': 'dabc1ac5-4272-4851-b717-583abc9a40a8', 'name': 'ChatGroq', 'tags': ['seq:step:1'], 'metadata': {'thread_id': '5', 'langgraph_step': 1, 'langgraph_node': 'Superbot', 'langgraph_triggers': ('branch:to:Superbot',), 'langgraph_path': ('__pregel_pull', 'Superbot'), 'langgraph_checkpoint_ns': 'Superbot:d1eb4742-4598-a583-17c5-27c9a9176309', 'checkpoint_ns': 'Superbot:d1eb4742-4598-a583-17c5-27c9a9176309', 'ls_provider': 'groq', 'ls_model_name': 'llama3-8b-8192', 'ls_model_type': 'chat', 'ls_temperature': 0.7}, 'parent_ids': ['b16112d2-a5d5-4ba5-91a8-682058497b3f', '019ec323-ef8b-4265-aa14-922d8cd42006']}\n",
      "{'event': 'on_chat_model_stream', 'data': {'chunk': AIMessageChunk(content='?', additional_kwargs={}, response_metadata={}, id='run--dabc1ac5-4272-4851-b717-583abc9a40a8')}, 'run_id': 'dabc1ac5-4272-4851-b717-583abc9a40a8', 'name': 'ChatGroq', 'tags': ['seq:step:1'], 'metadata': {'thread_id': '5', 'langgraph_step': 1, 'langgraph_node': 'Superbot', 'langgraph_triggers': ('branch:to:Superbot',), 'langgraph_path': ('__pregel_pull', 'Superbot'), 'langgraph_checkpoint_ns': 'Superbot:d1eb4742-4598-a583-17c5-27c9a9176309', 'checkpoint_ns': 'Superbot:d1eb4742-4598-a583-17c5-27c9a9176309', 'ls_provider': 'groq', 'ls_model_name': 'llama3-8b-8192', 'ls_model_type': 'chat', 'ls_temperature': 0.7}, 'parent_ids': ['b16112d2-a5d5-4ba5-91a8-682058497b3f', '019ec323-ef8b-4265-aa14-922d8cd42006']}\n",
      "{'event': 'on_chat_model_stream', 'data': {'chunk': AIMessageChunk(content='', additional_kwargs={}, response_metadata={'finish_reason': 'stop', 'model_name': 'llama3-8b-8192', 'system_fingerprint': 'fp_24ec19897b'}, id='run--dabc1ac5-4272-4851-b717-583abc9a40a8', usage_metadata={'input_tokens': 22, 'output_tokens': 50, 'total_tokens': 72})}, 'run_id': 'dabc1ac5-4272-4851-b717-583abc9a40a8', 'name': 'ChatGroq', 'tags': ['seq:step:1'], 'metadata': {'thread_id': '5', 'langgraph_step': 1, 'langgraph_node': 'Superbot', 'langgraph_triggers': ('branch:to:Superbot',), 'langgraph_path': ('__pregel_pull', 'Superbot'), 'langgraph_checkpoint_ns': 'Superbot:d1eb4742-4598-a583-17c5-27c9a9176309', 'checkpoint_ns': 'Superbot:d1eb4742-4598-a583-17c5-27c9a9176309', 'ls_provider': 'groq', 'ls_model_name': 'llama3-8b-8192', 'ls_model_type': 'chat', 'ls_temperature': 0.7}, 'parent_ids': ['b16112d2-a5d5-4ba5-91a8-682058497b3f', '019ec323-ef8b-4265-aa14-922d8cd42006']}\n",
      "{'event': 'on_chat_model_end', 'data': {'output': AIMessage(content=\"Nice to meet you, Jeevan! Cricket is a fantastic sport, isn't it? Do you have a favorite team or player? Have you ever played cricket yourself or are you more of a fan who enjoys watching and following the game?\", additional_kwargs={}, response_metadata={'finish_reason': 'stop', 'model_name': 'llama3-8b-8192', 'system_fingerprint': 'fp_24ec19897b'}, id='run--dabc1ac5-4272-4851-b717-583abc9a40a8', usage_metadata={'input_tokens': 22, 'output_tokens': 50, 'total_tokens': 72}), 'input': {'messages': [[HumanMessage(content='Hi, My name is Jeevan and I like cricket', additional_kwargs={}, response_metadata={}, id='0ee7fc27-1d38-4542-a271-c1c82f9442cd')]]}}, 'run_id': 'dabc1ac5-4272-4851-b717-583abc9a40a8', 'name': 'ChatGroq', 'tags': ['seq:step:1'], 'metadata': {'thread_id': '5', 'langgraph_step': 1, 'langgraph_node': 'Superbot', 'langgraph_triggers': ('branch:to:Superbot',), 'langgraph_path': ('__pregel_pull', 'Superbot'), 'langgraph_checkpoint_ns': 'Superbot:d1eb4742-4598-a583-17c5-27c9a9176309', 'checkpoint_ns': 'Superbot:d1eb4742-4598-a583-17c5-27c9a9176309', 'ls_provider': 'groq', 'ls_model_name': 'llama3-8b-8192', 'ls_model_type': 'chat', 'ls_temperature': 0.7}, 'parent_ids': ['b16112d2-a5d5-4ba5-91a8-682058497b3f', '019ec323-ef8b-4265-aa14-922d8cd42006']}\n",
      "{'event': 'on_chain_stream', 'run_id': '019ec323-ef8b-4265-aa14-922d8cd42006', 'name': 'Superbot', 'tags': ['graph:step:1'], 'metadata': {'thread_id': '5', 'langgraph_step': 1, 'langgraph_node': 'Superbot', 'langgraph_triggers': ('branch:to:Superbot',), 'langgraph_path': ('__pregel_pull', 'Superbot'), 'langgraph_checkpoint_ns': 'Superbot:d1eb4742-4598-a583-17c5-27c9a9176309'}, 'data': {'chunk': {'messages': [AIMessage(content=\"Nice to meet you, Jeevan! Cricket is a fantastic sport, isn't it? Do you have a favorite team or player? Have you ever played cricket yourself or are you more of a fan who enjoys watching and following the game?\", additional_kwargs={}, response_metadata={'finish_reason': 'stop', 'model_name': 'llama3-8b-8192', 'system_fingerprint': 'fp_24ec19897b'}, id='run--dabc1ac5-4272-4851-b717-583abc9a40a8', usage_metadata={'input_tokens': 22, 'output_tokens': 50, 'total_tokens': 72})]}}, 'parent_ids': ['b16112d2-a5d5-4ba5-91a8-682058497b3f']}\n",
      "{'event': 'on_chain_end', 'data': {'output': {'messages': [AIMessage(content=\"Nice to meet you, Jeevan! Cricket is a fantastic sport, isn't it? Do you have a favorite team or player? Have you ever played cricket yourself or are you more of a fan who enjoys watching and following the game?\", additional_kwargs={}, response_metadata={'finish_reason': 'stop', 'model_name': 'llama3-8b-8192', 'system_fingerprint': 'fp_24ec19897b'}, id='run--dabc1ac5-4272-4851-b717-583abc9a40a8', usage_metadata={'input_tokens': 22, 'output_tokens': 50, 'total_tokens': 72})]}, 'input': {'messages': [HumanMessage(content='Hi, My name is Jeevan and I like cricket', additional_kwargs={}, response_metadata={}, id='0ee7fc27-1d38-4542-a271-c1c82f9442cd')]}}, 'run_id': '019ec323-ef8b-4265-aa14-922d8cd42006', 'name': 'Superbot', 'tags': ['graph:step:1'], 'metadata': {'thread_id': '5', 'langgraph_step': 1, 'langgraph_node': 'Superbot', 'langgraph_triggers': ('branch:to:Superbot',), 'langgraph_path': ('__pregel_pull', 'Superbot'), 'langgraph_checkpoint_ns': 'Superbot:d1eb4742-4598-a583-17c5-27c9a9176309'}, 'parent_ids': ['b16112d2-a5d5-4ba5-91a8-682058497b3f']}\n",
      "{'event': 'on_chain_stream', 'run_id': 'b16112d2-a5d5-4ba5-91a8-682058497b3f', 'name': 'LangGraph', 'tags': [], 'metadata': {'thread_id': '5'}, 'data': {'chunk': {'Superbot': {'messages': [AIMessage(content=\"Nice to meet you, Jeevan! Cricket is a fantastic sport, isn't it? Do you have a favorite team or player? Have you ever played cricket yourself or are you more of a fan who enjoys watching and following the game?\", additional_kwargs={}, response_metadata={'finish_reason': 'stop', 'model_name': 'llama3-8b-8192', 'system_fingerprint': 'fp_24ec19897b'}, id='run--dabc1ac5-4272-4851-b717-583abc9a40a8', usage_metadata={'input_tokens': 22, 'output_tokens': 50, 'total_tokens': 72})]}}}, 'parent_ids': []}\n",
      "{'event': 'on_chain_end', 'data': {'output': {'messages': [HumanMessage(content='Hi, My name is Jeevan and I like cricket', additional_kwargs={}, response_metadata={}, id='0ee7fc27-1d38-4542-a271-c1c82f9442cd'), AIMessage(content=\"Nice to meet you, Jeevan! Cricket is a fantastic sport, isn't it? Do you have a favorite team or player? Have you ever played cricket yourself or are you more of a fan who enjoys watching and following the game?\", additional_kwargs={}, response_metadata={'finish_reason': 'stop', 'model_name': 'llama3-8b-8192', 'system_fingerprint': 'fp_24ec19897b'}, id='run--dabc1ac5-4272-4851-b717-583abc9a40a8', usage_metadata={'input_tokens': 22, 'output_tokens': 50, 'total_tokens': 72})]}}, 'run_id': 'b16112d2-a5d5-4ba5-91a8-682058497b3f', 'name': 'LangGraph', 'tags': [], 'metadata': {'thread_id': '5'}, 'parent_ids': []}\n"
     ]
    }
   ],
   "source": [
    "config = {\"configurable\": {\"thread_id\": \"5\"}}\n",
    "\n",
    "async for chunk in graph_builder.astream_events({\"messages\": \"Hi, My name is Jeevan and I like cricket\"}, config, stream_mode=\"updates\"):\n",
    "    print(chunk)"
   ]
  },
  {
   "cell_type": "markdown",
   "id": "71a64d86",
   "metadata": {},
   "source": [
    "Human in the Loop"
   ]
  },
  {
   "cell_type": "markdown",
   "id": "12e2c43b",
   "metadata": {},
   "source": []
  }
 ],
 "metadata": {
  "kernelspec": {
   "display_name": "agenticlanggraph-1",
   "language": "python",
   "name": "python3"
  },
  "language_info": {
   "codemirror_mode": {
    "name": "ipython",
    "version": 3
   },
   "file_extension": ".py",
   "mimetype": "text/x-python",
   "name": "python",
   "nbconvert_exporter": "python",
   "pygments_lexer": "ipython3",
   "version": "3.12.7"
  }
 },
 "nbformat": 4,
 "nbformat_minor": 5
}
